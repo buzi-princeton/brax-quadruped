{
 "cells": [
  {
   "cell_type": "code",
   "execution_count": 3,
   "id": "fbb9678c-80d7-4b76-86c0-40722b5fbe0c",
   "metadata": {},
   "outputs": [],
   "source": [
    "import functools\n",
    "import time\n",
    "\n",
    "# turn on parallelism\n",
    "import os\n",
    "os.environ[\"XLA_FLAGS\"] = \"--xla_force_host_platform_device_count=50\"\n",
    "\n",
    "import jax\n",
    "jax.config.update(\"jax_enable_x64\", True)\n",
    "jax.config.update(\"jax_platform_name\", \"cpu\")\n",
    "\n",
    "from datetime import datetime\n",
    "from jax import numpy as jp\n",
    "import matplotlib.pyplot as plt\n",
    "\n",
    "from IPython.display import HTML, clear_output\n",
    "\n",
    "import brax\n",
    "import flax\n",
    "from brax.envs import env\n",
    "from brax import envs\n",
    "from brax import base\n",
    "from brax.io import model\n",
    "from brax.io import json\n",
    "from brax.io import html\n",
    "from brax.io import mjcf\n",
    "\n",
    "from inverse_kinematics.inverse_kinematics_controller import InverseKinematicsController"
   ]
  },
  {
   "cell_type": "code",
   "execution_count": 4,
   "id": "2fcc8a55-c8eb-4a6d-bda0-7d34987afbd4",
   "metadata": {},
   "outputs": [
    {
     "data": {
      "text/plain": [
       "50"
      ]
     },
     "execution_count": 4,
     "metadata": {},
     "output_type": "execute_result"
    }
   ],
   "source": [
    "len(jax.devices())"
   ]
  },
  {
   "cell_type": "code",
   "execution_count": 5,
   "id": "171e25da-711a-4cff-80fa-b094d857777a",
   "metadata": {},
   "outputs": [],
   "source": [
    "\"\"\"\n",
    "A1 env that includes the reset and step function that takes in all information of pipeline instead of using pipeline_state\n",
    "\"\"\"\n",
    "\n",
    "import jax\n",
    "from jax import numpy as jp\n",
    "import brax\n",
    "import flax\n",
    "from brax.envs import env\n",
    "from brax import envs\n",
    "from brax import base\n",
    "from brax.io import model\n",
    "from brax.io import json\n",
    "from brax.io import html\n",
    "from brax.io import mjcf\n",
    "\n",
    "class SpiritRaw(env.PipelineEnv):\n",
    "    def __init__(\n",
    "        self, \n",
    "        path=\"spirit40.xml\", \n",
    "        backend='generalized',\n",
    "        reset_noise_scale=0.1,\n",
    "        **kwargs\n",
    "    ):\n",
    "        sys = mjcf.load(path)\n",
    "        n_frames = 1\n",
    "        kwargs['n_frames'] = kwargs.get('n_frames', n_frames)\n",
    "        \n",
    "        super().__init__(sys=sys, backend=backend, **kwargs)\n",
    "        \n",
    "        self.qd_size = self.sys.qd_size()\n",
    "        self.q_size = self.sys.q_size()\n",
    "        \n",
    "        # this might not be correct\n",
    "        self.num_link = len(self.sys.link_names)\n",
    "        \n",
    "        self._reset_noise_scale = reset_noise_scale\n",
    "        \n",
    "    def reset(self, rng: jp.ndarray) -> env.State:\n",
    "        # sit down\n",
    "        q = jp.array([\n",
    "            0., 0., 0.14, \n",
    "            1., 0., 0., 0., \n",
    "            0., 0.2, 0.2,\n",
    "            0., 0.2, 0.2,\n",
    "            0., 0.2, 0.2,\n",
    "            0., 0.2, 0.2\n",
    "        ]) \n",
    "        \n",
    "        qd = jp.zeros(self.qd_size) # velocity initialized to 0\n",
    "        \n",
    "        pipeline_state = self.pipeline_init(q, qd)\n",
    "        obs = self._get_obs(pipeline_state)\n",
    "        \n",
    "        reward, done, zero = jp.zeros(3)\n",
    "        info = {}\n",
    "        \n",
    "        return env.State(pipeline_state, obs, reward, done, info)\n",
    "\n",
    "    def _get_obs(self, pipeline_state: base.State) -> jp.ndarray:\n",
    "        \"\"\"Observe ant body position and velocities.\"\"\"\t\n",
    "        qpos = pipeline_state.q\n",
    "        qvel = pipeline_state.qd\n",
    "\n",
    "        return jp.concatenate([qpos] + [qvel])\n",
    "    \n",
    "    def raw_pipeline_init(q, qd, x, xd):\n",
    "        return brax.base.State(\n",
    "            q=q,\n",
    "            qd=qd,\n",
    "            x=x,\n",
    "            xd=xd,\n",
    "            contact=None,\n",
    "            com=jp.zeros(3),\n",
    "            cinr=brax.base.Inertia(\n",
    "                brax.base.Transform.zero((self.num_links,)),\n",
    "                jp.zeros((self.num_links, 3, 3)),\n",
    "                jp.zeros((self.num_links,)),\n",
    "            ),\n",
    "            cd=brax.base.Motion.zero((self.num_links,)),\n",
    "            cdof=brax.base.Motion.zero((self.num_links,)),\n",
    "            cdofd=brax.base.Motion.zero((self.num_links,)),\n",
    "            mass_mx=jp.zeros((self.qd_size, self.qd_size)),\n",
    "            mass_mx_inv=jp.zeros((self.qd_size, self.qd_size)),\n",
    "            con_jac=jp.zeros(()),\n",
    "            con_diag=jp.zeros(()),\n",
    "            con_aref=jp.zeros(()),\n",
    "            qf_smooth=jp.zeros_like(qd),\n",
    "            qf_constraint=jp.zeros_like(qd),\n",
    "            qdd=jp.zeros_like(qd),\n",
    "        )\n",
    "    \n",
    "    def pipeline_parse(\n",
    "        self, q, qd, x, xd, com, \n",
    "        cinr_transform_pos, cinr_transform_rot, cinr_i, cinr_mass, \n",
    "        cd_ang, cd_vel, cdof_ang, cdof_vel, \n",
    "        cdofd_ang, cdofd_vel, mass_mx_inv, \n",
    "        con_jac, con_aref, con_diag, \n",
    "        qf_smooth, qf_constraint, qdd\n",
    "    ):\n",
    "        return brax.generalized.base.State(\n",
    "            q=q,\n",
    "            qd=qd,\n",
    "            x=x,\n",
    "            xd=xd,\n",
    "            contact=None,\n",
    "            com=com,\n",
    "            cinr=brax.base.Inertia(\n",
    "                transform=brax.base.Transform(\n",
    "                    cinr_transform_pos, cinr_transform_rot\n",
    "                ),\n",
    "                i=cinr_i,\n",
    "                mass=cinr_mass\n",
    "            ),\n",
    "            cd=brax.base.Motion(\n",
    "                ang=cd_ang,\n",
    "                vel=cd_vel\n",
    "            ),\n",
    "            cdof=brax.base.Motion(\n",
    "                ang=cdof_ang,\n",
    "                vel=cdof_vel\n",
    "            ),\n",
    "            cdofd=brax.base.Motion(\n",
    "                ang=cdofd_ang,\n",
    "                vel=cdofd_vel\n",
    "            ),\n",
    "            mass_mx=jp.zeros_like(mass_mx_inv),\n",
    "            mass_mx_inv=mass_mx_inv,\n",
    "            con_jac=con_jac,\n",
    "            con_aref=con_aref,\n",
    "            con_diag=con_diag,\n",
    "            qf_smooth=qf_smooth,\n",
    "            qf_constraint=qf_constraint,\n",
    "            qdd=qdd\n",
    "        )\n",
    "    \n",
    "    def step(self, s: jp.ndarray, action: jp.ndarray, \n",
    "             x_pos, x_rot, xd_ang, xd_vel, com, \n",
    "             cinr_transform_pos, cinr_transform_rot, cinr_i, cinr_mass, \n",
    "             cd_ang, cd_vel, cdof_ang, cdof_vel, \n",
    "             cdofd_ang, cdofd_vel, mass_mx_inv, \n",
    "             con_jac, con_aref, con_diag, \n",
    "             qf_smooth, qf_constraint, qdd) -> env.State:\n",
    "\n",
    "        q = s[:self.q_size]\n",
    "        qd = s[self.q_size:]\n",
    "        x = brax.base.Transform(\n",
    "            x_pos, x_rot\n",
    "        )\n",
    "        xd = brax.base.Motion(\n",
    "            xd_ang, xd_vel\n",
    "        )\n",
    "        \n",
    "        \n",
    "        pipeline_state = self.pipeline_parse(q, qd, x, xd, com, \n",
    "            cinr_transform_pos, cinr_transform_rot, cinr_i, cinr_mass, \n",
    "            cd_ang, cd_vel, cdof_ang, cdof_vel, \n",
    "            cdofd_ang, cdofd_vel, mass_mx_inv, \n",
    "            con_jac, con_aref, con_diag, \n",
    "            qf_smooth, qf_constraint, qdd)\n",
    "        \n",
    "        return self._step(pipeline_state, action)\n",
    "        \n",
    "    \n",
    "    def _step(self, state: brax.base.State, action: jp.ndarray) -> env.State:\n",
    "        \"\"\"Run one timestep of the environment's dynamics.\"\"\"\n",
    "        # low level control turning reference position (input action) to torque:\n",
    "        joint_pos = state.q[7:]\n",
    "        joint_vel = state.qd[6:]\n",
    "        e_pos = action - joint_pos\n",
    "        e_v = jp.zeros(12) - joint_vel\n",
    "\n",
    "        feedback_abduction = e_pos*120.0 + e_v*0.5\n",
    "        abduction_action = jp.array([feedback_abduction[j] for j in [0, 3, 6, 9]])\n",
    "\n",
    "        feedback_hip = e_pos*80.0 + e_v*1.0\n",
    "        hip_action = jp.array([feedback_hip[j] for j in [1, 4, 7, 10]])\n",
    "\n",
    "        feedback_knee = e_pos*120.0 + e_v*2.0\n",
    "        knee_action = jp.array([feedback_knee[j] for j in [2, 5, 8, 11]])\n",
    "\n",
    "        action = jp.array([abduction_action, hip_action, knee_action]).T.reshape(-1)\n",
    "        \n",
    "        pipeline_state = self.pipeline_step(state, action)\n",
    "        obs = self._get_obs(pipeline_state)\n",
    "        \n",
    "        reward, done, zero = jp.zeros(3)\n",
    "        info = {}\n",
    "        \n",
    "        return env.State(pipeline_state, obs, reward, done, info)"
   ]
  },
  {
   "cell_type": "code",
   "execution_count": 6,
   "id": "b683d062-1231-49ef-b648-6307a3c83cc3",
   "metadata": {},
   "outputs": [
    {
     "name": "stderr",
     "output_type": "stream",
     "text": [
      "/home/duynguyen/miniconda3/envs/spirit-rl-pybullet/lib/python3.8/site-packages/brax/io/mjcf.py:381: UserWarning: unrecognized collider, geom_type: 5\n",
      "  warnings.warn(f'unrecognized collider, geom_type: {typ}')\n"
     ]
    }
   ],
   "source": [
    "spirit_env = SpiritRaw()\n",
    "jit_env_reset = jax.jit(spirit_env.reset, backend=\"cpu\")\n",
    "jit_env_step = jax.jit(spirit_env.step, backend=\"cpu\")"
   ]
  },
  {
   "cell_type": "code",
   "execution_count": 7,
   "id": "ddd45daf-7b34-4db2-9f90-c29001c42097",
   "metadata": {},
   "outputs": [],
   "source": [
    "controller = InverseKinematicsController()"
   ]
  },
  {
   "cell_type": "code",
   "execution_count": 8,
   "id": "89236743-b241-4c19-8c77-bea33b57b4f5",
   "metadata": {},
   "outputs": [],
   "source": [
    "def get_x(state: env.State):\n",
    "    return jp.append(state.pipeline_state.q, state.pipeline_state.qd)\n",
    "\n",
    "jax_get_x = jax.jit(get_x, backend=\"cpu\")"
   ]
  },
  {
   "cell_type": "code",
   "execution_count": 9,
   "id": "ea0b7f31-6bac-4ea1-a8e2-f753736d40aa",
   "metadata": {},
   "outputs": [],
   "source": [
    "def get_pipeline_parse(ps):\n",
    "    return ps.x.pos, ps.x.rot, ps.xd.ang, ps.xd.vel, ps.com, ps.cinr.transform.pos, ps.cinr.transform.rot, ps.cinr.i, ps.cinr.mass, ps.cd.ang, ps.cd.vel, ps.cdof.ang, ps.cdof.vel, ps.cdofd.ang, ps.cdofd.vel, ps.mass_mx_inv, ps.con_jac, ps.con_aref, ps.con_diag, ps.qf_smooth, ps.qf_constraint, ps.qdd"
   ]
  },
  {
   "cell_type": "code",
   "execution_count": 45,
   "id": "792b9d9c-b2d8-4989-937d-f95197b8292b",
   "metadata": {},
   "outputs": [],
   "source": [
    "# bring robot to standing position and take the first step of the controller\n",
    "states = []\n",
    "actions = []\n",
    "\n",
    "rng = jax.random.PRNGKey(seed=1)\n",
    "state = jit_env_reset(rng=rng)\n",
    "\n",
    "current_joint = jp.array([\n",
    "    0.0, 0.2, 0.2, \n",
    "    0.0, 0.2, 0.2, \n",
    "    0.0, 0.2, 0.2, \n",
    "    0.0, 0.2, 0.2\n",
    "])\n",
    "\n",
    "# stand up\n",
    "reference_joint = jp.array([\n",
    "    0.0, 0.7, 1.5, \n",
    "    0.0, 0.7, 1.5, \n",
    "    0.0, 0.7, 1.5,\n",
    "    0.0, 0.7, 1.5\n",
    "])\n",
    "\n",
    "trajectory = jp.linspace(current_joint, reference_joint, 200)\n",
    "\n",
    "cur_time = time.time()\n",
    "for action in trajectory:\n",
    "    states.append(state)\n",
    "    actions.append(action)\n",
    "    state = jit_env_step(get_x(state), jp.array(action), *get_pipeline_parse(state.pipeline_state))\n",
    "sum_time = time.time() - cur_time\n",
    "\n",
    "# move from stable stance to first step of performance controller\n",
    "reference_joint = jp.array(controller.get_action())\n",
    "\n",
    "trajectory = jp.linspace(state.pipeline_state.q[7:], reference_joint, 50)\n",
    "\n",
    "cur_time = time.time()\n",
    "for action in trajectory:\n",
    "    states.append(state)\n",
    "    actions.append(action)\n",
    "    state = jit_env_step(get_x(state), jp.array(action), *get_pipeline_parse(state.pipeline_state))\n",
    "\n",
    "# start walking\n",
    "for _ in range(500):\n",
    "    states.append(state)\n",
    "    action = jp.array(controller.get_action())\n",
    "    actions.append(action)\n",
    "    state = jit_env_step(get_x(state), jp.array(action), *get_pipeline_parse(state.pipeline_state))\n",
    "\n",
    "sum_time += time.time() - cur_time\n",
    "\n",
    "# HTML(html.render(spirit_env.sys, [s.pipeline_state for s in states]))"
   ]
  },
  {
   "cell_type": "code",
   "execution_count": 46,
   "id": "02985783-7997-48ae-b096-1a9d759925b7",
   "metadata": {},
   "outputs": [
    {
     "data": {
      "text/plain": [
       "0.0061801951726277666"
      ]
     },
     "execution_count": 46,
     "metadata": {},
     "output_type": "execute_result"
    }
   ],
   "source": [
    "sum_time / (200+50+500)"
   ]
  },
  {
   "cell_type": "code",
   "execution_count": 41,
   "id": "8ec89f2f-9da1-445c-ab54-194c349f05b2",
   "metadata": {},
   "outputs": [],
   "source": [
    "ss = jp.array([jax_get_x(s) for s in states[300:350]])\n",
    "x_poss = jp.array([s.pipeline_state.x.pos for s in states[300:350]])\n",
    "x_rots = jp.array([s.pipeline_state.x.rot for s in states[300:350]])\n",
    "xd_angs = jp.array([s.pipeline_state.xd.ang for s in states[300:350]])\n",
    "xd_vels = jp.array([s.pipeline_state.xd.vel for s in states[300:350]])\n",
    "coms = jp.array([s.pipeline_state.com for s in states[300:350]])\n",
    "cinr_transform_poss = jp.array([s.pipeline_state.cinr.transform.pos for s in states[300:350]])\n",
    "cinr_transform_rots = jp.array([s.pipeline_state.cinr.transform.rot for s in states[300:350]])\n",
    "cinr_is = jp.array([s.pipeline_state.cinr.i for s in states[300:350]])\n",
    "cinr_masses = jp.array([s.pipeline_state.cinr.mass for s in states[300:350]])\n",
    "cd_angs = jp.array([s.pipeline_state.cd.ang for s in states[300:350]])\n",
    "cd_vels  = jp.array([s.pipeline_state.cd.vel for s in states[300:350]])\n",
    "cdof_angs  = jp.array([s.pipeline_state.cdof.ang for s in states[300:350]])\n",
    "cdof_vels  = jp.array([s.pipeline_state.cdof.vel for s in states[300:350]])\n",
    "cdofd_angs  = jp.array([s.pipeline_state.cdofd.ang for s in states[300:350]])\n",
    "cdofd_vels = jp.array([s.pipeline_state.cdofd.vel for s in states[300:350]])\n",
    "mass_mx_invs = jp.array([s.pipeline_state.mass_mx_inv for s in states[300:350]])\n",
    "con_jacs = jp.array([s.pipeline_state.con_jac for s in states[300:350]])\n",
    "con_arefs = jp.array([s.pipeline_state.con_aref for s in states[300:350]])\n",
    "con_diags = jp.array([s.pipeline_state.con_diag for s in states[300:350]])\n",
    "qf_smooths = jp.array([s.pipeline_state.qf_smooth for s in states[300:350]])\n",
    "qf_constraints = jp.array([s.pipeline_state.qf_constraint for s in states[300:350]])\n",
    "qdds = jp.array([s.pipeline_state.qdd for s in states[300:350]])"
   ]
  },
  {
   "cell_type": "code",
   "execution_count": 17,
   "id": "ee8b02e4-a843-4d56-b688-dd28c5e78da0",
   "metadata": {},
   "outputs": [],
   "source": [
    "def integrate_forward(s, u, x_pos, x_rot, xd_ang, xd_vel, com, \n",
    "        cinr_transform_pos, cinr_transform_rot, cinr_i, cinr_mass, \n",
    "        cd_ang, cd_vel, cdof_ang, cdof_vel, \n",
    "        cdofd_ang, cdofd_vel, mass_mx_inv, \n",
    "        con_jac, con_aref, con_diag, \n",
    "        qf_smooth, qf_constraint, qdd):\n",
    "    \n",
    "    new_state = jit_env_step(s, u, x_pos, x_rot, xd_ang, xd_vel, com, \n",
    "        cinr_transform_pos, cinr_transform_rot, cinr_i, cinr_mass, \n",
    "        cd_ang, cd_vel, cdof_ang, cdof_vel, \n",
    "        cdofd_ang, cdofd_vel, mass_mx_inv, \n",
    "        con_jac, con_aref, con_diag, \n",
    "        qf_smooth, qf_constraint, qdd\n",
    "    )\n",
    "    \n",
    "    return jp.append(new_state.pipeline_state.q, new_state.pipeline_state.qd)\n",
    "\n",
    "jax_integrate_forward = jax.jit(jax.jacfwd(integrate_forward, argnums=[0, 1]), backend=\"cpu\")\n",
    "jit_pmap_jacfwd = jax.pmap(jax_integrate_forward)"
   ]
  },
  {
   "cell_type": "code",
   "execution_count": 42,
   "id": "4e99e4e4-b4d9-455d-9d92-9b0edfa57a0d",
   "metadata": {},
   "outputs": [
    {
     "name": "stdout",
     "output_type": "stream",
     "text": [
      "0.0007563638687133789\n"
     ]
    }
   ],
   "source": [
    "import time\n",
    "cur_time = time.time()\n",
    "jit_pmap_jacfwd(\n",
    "    ss, jp.array(actions[300:350]), \n",
    "    x_poss, x_rots, xd_angs, xd_vels, coms, \n",
    "    cinr_transform_poss, cinr_transform_rots, cinr_is, cinr_masses, \n",
    "    cd_angs, cd_vels, cdof_angs, cdof_vels, cdofd_angs, cdofd_vels,\n",
    "    mass_mx_invs, con_jacs, con_arefs, con_diags, qf_smooths, qf_constraints, qdds\n",
    ")\n",
    "print((time.time() - cur_time)/50)"
   ]
  },
  {
   "cell_type": "markdown",
   "id": "1e7cfe5a-866f-433b-afc1-d748ca71b54d",
   "metadata": {},
   "source": [
    "## Benchmarking computing time"
   ]
  },
  {
   "cell_type": "code",
   "execution_count": 48,
   "id": "995c0abb-8107-41d6-835e-fc6d37f99fd1",
   "metadata": {},
   "outputs": [],
   "source": [
    "# bring robot to standing position and take the first step of the controller\n",
    "states = []\n",
    "actions = []\n",
    "time_elapsed = []\n",
    "\n",
    "rng = jax.random.PRNGKey(seed=1)\n",
    "state = jit_env_reset(rng=rng)\n",
    "\n",
    "current_joint = jp.array([\n",
    "    0.0, 0.2, 0.2, \n",
    "    0.0, 0.2, 0.2, \n",
    "    0.0, 0.2, 0.2, \n",
    "    0.0, 0.2, 0.2\n",
    "])\n",
    "\n",
    "# stand up\n",
    "reference_joint = jp.array([\n",
    "    0.0, 0.7, 1.5, \n",
    "    0.0, 0.7, 1.5, \n",
    "    0.0, 0.7, 1.5,\n",
    "    0.0, 0.7, 1.5\n",
    "])\n",
    "\n",
    "trajectory = jp.linspace(current_joint, reference_joint, 200)\n",
    "\n",
    "for action in trajectory:\n",
    "    cur_time = time.time()\n",
    "    states.append(state)\n",
    "    actions.append(action)\n",
    "    state = jit_env_step(get_x(state), jp.array(action), *get_pipeline_parse(state.pipeline_state))\n",
    "    time_elapsed.append(time.time() - cur_time)\n",
    "\n",
    "# move from stable stance to first step of performance controller\n",
    "reference_joint = jp.array(controller.get_action())\n",
    "\n",
    "trajectory = jp.linspace(state.pipeline_state.q[7:], reference_joint, 50)\n",
    "\n",
    "for action in trajectory:\n",
    "    cur_time = time.time()\n",
    "    states.append(state)\n",
    "    actions.append(action)\n",
    "    state = jit_env_step(get_x(state), jp.array(action), *get_pipeline_parse(state.pipeline_state))\n",
    "    time_elapsed.append(time.time() - cur_time)\n",
    "\n",
    "# start walking\n",
    "for _ in range(500):\n",
    "    cur_time = time.time()\n",
    "    states.append(state)\n",
    "    action = jp.array(controller.get_action())\n",
    "    actions.append(action)\n",
    "    state = jit_env_step(get_x(state), jp.array(action), *get_pipeline_parse(state.pipeline_state))\n",
    "    time_elapsed.append(time.time() - cur_time)"
   ]
  },
  {
   "cell_type": "code",
   "execution_count": 62,
   "id": "6c94c893-2f3a-4cfa-979d-4d6e0c83d0a5",
   "metadata": {},
   "outputs": [
    {
     "data": {
      "text/plain": [
       "Text(0, 0.5, 'Count (Total 750 steps)')"
      ]
     },
     "execution_count": 62,
     "metadata": {},
     "output_type": "execute_result"
    },
    {
     "data": {
      "image/png": "[encoded data removed]",
      "text/plain": [
       "<Figure size 640x480 with 1 Axes>"
      ]
     },
     "metadata": {},
     "output_type": "display_data"
    }
   ],
   "source": [
    "plt.title(\"1-step simulation forward elapsed time\")\n",
    "plt.hist(time_elapsed, bins=20)\n",
    "plt.xlabel(\"Time (s)\")\n",
    "plt.ylabel(\"Count (Total 750 steps)\")\n",
    "plt.show()"
   ]
  },
  {
   "cell_type": "code",
   "execution_count": 88,
   "id": "c6747bfa-2e01-4200-998b-ccf06ca588fc",
   "metadata": {},
   "outputs": [
    {
     "ename": "KeyboardInterrupt",
     "evalue": "",
     "output_type": "error",
     "traceback": [
      "\u001b[0;31m---------------------------------------------------------------------------\u001b[0m",
      "\u001b[0;31mKeyboardInterrupt\u001b[0m                         Traceback (most recent call last)",
      "Cell \u001b[0;32mIn[88], line 7\u001b[0m\n\u001b[1;32m      5\u001b[0m start \u001b[38;5;241m=\u001b[39m i\u001b[38;5;241m*\u001b[39m\u001b[38;5;241m50\u001b[39m\n\u001b[1;32m      6\u001b[0m stop \u001b[38;5;241m=\u001b[39m (i\u001b[38;5;241m+\u001b[39m\u001b[38;5;241m1\u001b[39m)\u001b[38;5;241m*\u001b[39m\u001b[38;5;241m50\u001b[39m\n\u001b[0;32m----> 7\u001b[0m ss \u001b[38;5;241m=\u001b[39m jp\u001b[38;5;241m.\u001b[39marray([jax_get_x(s) \u001b[38;5;28;01mfor\u001b[39;00m s \u001b[38;5;129;01min\u001b[39;00m states[start:stop]])\n\u001b[1;32m      8\u001b[0m x_poss \u001b[38;5;241m=\u001b[39m jp\u001b[38;5;241m.\u001b[39marray([s\u001b[38;5;241m.\u001b[39mpipeline_state\u001b[38;5;241m.\u001b[39mx\u001b[38;5;241m.\u001b[39mpos \u001b[38;5;28;01mfor\u001b[39;00m s \u001b[38;5;129;01min\u001b[39;00m states[start:stop]])\n\u001b[1;32m      9\u001b[0m x_rots \u001b[38;5;241m=\u001b[39m jp\u001b[38;5;241m.\u001b[39marray([s\u001b[38;5;241m.\u001b[39mpipeline_state\u001b[38;5;241m.\u001b[39mx\u001b[38;5;241m.\u001b[39mrot \u001b[38;5;28;01mfor\u001b[39;00m s \u001b[38;5;129;01min\u001b[39;00m states[start:stop]])\n",
      "Cell \u001b[0;32mIn[88], line 7\u001b[0m, in \u001b[0;36m<listcomp>\u001b[0;34m(.0)\u001b[0m\n\u001b[1;32m      5\u001b[0m start \u001b[38;5;241m=\u001b[39m i\u001b[38;5;241m*\u001b[39m\u001b[38;5;241m50\u001b[39m\n\u001b[1;32m      6\u001b[0m stop \u001b[38;5;241m=\u001b[39m (i\u001b[38;5;241m+\u001b[39m\u001b[38;5;241m1\u001b[39m)\u001b[38;5;241m*\u001b[39m\u001b[38;5;241m50\u001b[39m\n\u001b[0;32m----> 7\u001b[0m ss \u001b[38;5;241m=\u001b[39m jp\u001b[38;5;241m.\u001b[39marray([\u001b[43mjax_get_x\u001b[49m\u001b[43m(\u001b[49m\u001b[43ms\u001b[49m\u001b[43m)\u001b[49m \u001b[38;5;28;01mfor\u001b[39;00m s \u001b[38;5;129;01min\u001b[39;00m states[start:stop]])\n\u001b[1;32m      8\u001b[0m x_poss \u001b[38;5;241m=\u001b[39m jp\u001b[38;5;241m.\u001b[39marray([s\u001b[38;5;241m.\u001b[39mpipeline_state\u001b[38;5;241m.\u001b[39mx\u001b[38;5;241m.\u001b[39mpos \u001b[38;5;28;01mfor\u001b[39;00m s \u001b[38;5;129;01min\u001b[39;00m states[start:stop]])\n\u001b[1;32m      9\u001b[0m x_rots \u001b[38;5;241m=\u001b[39m jp\u001b[38;5;241m.\u001b[39marray([s\u001b[38;5;241m.\u001b[39mpipeline_state\u001b[38;5;241m.\u001b[39mx\u001b[38;5;241m.\u001b[39mrot \u001b[38;5;28;01mfor\u001b[39;00m s \u001b[38;5;129;01min\u001b[39;00m states[start:stop]])\n",
      "\u001b[0;31mKeyboardInterrupt\u001b[0m: "
     ]
    }
   ],
   "source": [
    "time_elapsed = []\n",
    "\n",
    "for j in range(10):\n",
    "    for i in range(int(750/50)):\n",
    "        start = i*50\n",
    "        stop = (i+1)*50\n",
    "        ss = jp.array([jax_get_x(s) for s in states[start:stop]])\n",
    "        x_poss = jp.array([s.pipeline_state.x.pos for s in states[start:stop]])\n",
    "        x_rots = jp.array([s.pipeline_state.x.rot for s in states[start:stop]])\n",
    "        xd_angs = jp.array([s.pipeline_state.xd.ang for s in states[start:stop]])\n",
    "        xd_vels = jp.array([s.pipeline_state.xd.vel for s in states[start:stop]])\n",
    "        coms = jp.array([s.pipeline_state.com for s in states[start:stop]])\n",
    "        cinr_transform_poss = jp.array([s.pipeline_state.cinr.transform.pos for s in states[start:stop]])\n",
    "        cinr_transform_rots = jp.array([s.pipeline_state.cinr.transform.rot for s in states[start:stop]])\n",
    "        cinr_is = jp.array([s.pipeline_state.cinr.i for s in states[start:stop]])\n",
    "        cinr_masses = jp.array([s.pipeline_state.cinr.mass for s in states[start:stop]])\n",
    "        cd_angs = jp.array([s.pipeline_state.cd.ang for s in states[start:stop]])\n",
    "        cd_vels  = jp.array([s.pipeline_state.cd.vel for s in states[start:stop]])\n",
    "        cdof_angs  = jp.array([s.pipeline_state.cdof.ang for s in states[start:stop]])\n",
    "        cdof_vels  = jp.array([s.pipeline_state.cdof.vel for s in states[start:stop]])\n",
    "        cdofd_angs  = jp.array([s.pipeline_state.cdofd.ang for s in states[start:stop]])\n",
    "        cdofd_vels = jp.array([s.pipeline_state.cdofd.vel for s in states[start:stop]])\n",
    "        mass_mx_invs = jp.array([s.pipeline_state.mass_mx_inv for s in states[start:stop]])\n",
    "        con_jacs = jp.array([s.pipeline_state.con_jac for s in states[start:stop]])\n",
    "        con_arefs = jp.array([s.pipeline_state.con_aref for s in states[start:stop]])\n",
    "        con_diags = jp.array([s.pipeline_state.con_diag for s in states[start:stop]])\n",
    "        qf_smooths = jp.array([s.pipeline_state.qf_smooth for s in states[start:stop]])\n",
    "        qf_constraints = jp.array([s.pipeline_state.qf_constraint for s in states[start:stop]])\n",
    "        qdds = jp.array([s.pipeline_state.qdd for s in states[start:stop]])\n",
    "\n",
    "        cur_time = time.time()\n",
    "        jit_pmap_jacfwd(\n",
    "            ss, jp.array(actions[start:stop]), \n",
    "            x_poss, x_rots, xd_angs, xd_vels, coms, \n",
    "            cinr_transform_poss, cinr_transform_rots, cinr_is, cinr_masses, \n",
    "            cd_angs, cd_vels, cdof_angs, cdof_vels, cdofd_angs, cdofd_vels,\n",
    "            mass_mx_invs, con_jacs, con_arefs, con_diags, qf_smooths, qf_constraints, qdds\n",
    "        )\n",
    "        time_elapsed.append((time.time() - cur_time)/50.0)"
   ]
  },
  {
   "cell_type": "code",
   "execution_count": 110,
   "id": "860ba1ea-d6ad-4567-b654-5dde81756863",
   "metadata": {},
   "outputs": [],
   "source": [
    "time_elapsed_filter = [x for x in time_elapsed if x < 0.1]"
   ]
  },
  {
   "cell_type": "code",
   "execution_count": 113,
   "id": "c59c3b4b-25a3-437c-a346-e07d5dc32818",
   "metadata": {},
   "outputs": [
    {
     "data": {
      "image/png": "[encoded data removed]",
      "text/plain": [
       "<Figure size 640x480 with 1 Axes>"
      ]
     },
     "metadata": {},
     "output_type": "display_data"
    }
   ],
   "source": [
    "plt.title(\"Jacobian forward elapsed time\")\n",
    "plt.hist(time_elapsed_filter, bins=20)\n",
    "plt.xlabel(\"Time (s)\")\n",
    "plt.ylabel(\"Count (Total 40 segments)\")\n",
    "plt.show()"
   ]
  },
  {
   "cell_type": "code",
   "execution_count": 117,
   "id": "b26d4c4d-9cec-4158-b080-1837bf2eddc7",
   "metadata": {},
   "outputs": [
    {
     "data": {
      "text/plain": [
       "0.5652146100997925"
      ]
     },
     "execution_count": 117,
     "metadata": {},
     "output_type": "execute_result"
    }
   ],
   "source": [
    "max(time_elapsed)"
   ]
  },
  {
   "cell_type": "code",
   "execution_count": 118,
   "id": "1746cce4-94be-4412-a155-4840bb391ca5",
   "metadata": {},
   "outputs": [
    {
     "data": {
      "text/plain": [
       "0.005535225868225097"
      ]
     },
     "execution_count": 118,
     "metadata": {},
     "output_type": "execute_result"
    }
   ],
   "source": [
    "min(time_elapsed)"
   ]
  }
 ],
 "metadata": {
  "kernelspec": {
   "display_name": "Python 3 (ipykernel)",
   "language": "python",
   "name": "python3"
  },
  "language_info": {
   "codemirror_mode": {
    "name": "ipython",
    "version": 3
   },
   "file_extension": ".py",
   "mimetype": "text/x-python",
   "name": "python",
   "nbconvert_exporter": "python",
   "pygments_lexer": "ipython3",
   "version": "3.8.12"
  }
 },
 "nbformat": 4,
 "nbformat_minor": 5
}
