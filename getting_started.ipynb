{
 "cells": [
  {
   "cell_type": "code",
   "execution_count": 1,
   "metadata": {},
   "outputs": [],
   "source": [
    "import functools\n",
    "import jax\n",
    "import os\n",
    "\n",
    "from datetime import datetime\n",
    "from jax import numpy as jp\n",
    "import matplotlib.pyplot as plt\n",
    "\n",
    "from IPython.display import HTML, clear_output\n",
    "\n",
    "import brax\n",
    "\n",
    "import flax\n",
    "from brax.envs import env\n",
    "from brax import envs\n",
    "from brax import base\n",
    "from brax.io import model\n",
    "from brax.io import json\n",
    "from brax.io import html\n",
    "from brax.io import mjcf"
   ]
  },
  {
   "cell_type": "code",
   "execution_count": 2,
   "metadata": {},
   "outputs": [
    {
     "name": "stdout",
     "output_type": "stream",
     "text": [
      "gpu\n"
     ]
    }
   ],
   "source": [
    "from jax.lib import xla_bridge\n",
    "print(xla_bridge.get_backend().platform)"
   ]
  },
  {
   "cell_type": "code",
   "execution_count": null,
   "metadata": {},
   "outputs": [],
   "source": [
    "#@title Load Env { run: \"auto\" }\n",
    "\n",
    "env_name = 'ant'  # @param ['ant', 'halfcheetah', 'hopper', 'humanoid', 'humanoidstandup', 'inverted_pendulum', 'inverted_double_pendulum', 'pusher', 'reacher', 'walker2d']\n",
    "backend = 'positional'  # @param ['generalized', 'positional', 'spring']\n",
    "\n",
    "ant_env = envs.get_environment(env_name=env_name,\n",
    "                              backend=backend)\n",
    "state = jax.jit(ant_env.reset, backend=\"cpu\")(rng=jax.random.PRNGKey(seed=0))\n",
    "\n",
    "HTML(html.render(ant_env.sys, [state.pipeline_state]))"
   ]
  },
  {
   "cell_type": "code",
   "execution_count": 3,
   "metadata": {},
   "outputs": [],
   "source": [
    "# an attempt to create the class A1 for the A1 robot XML\n",
    "\n",
    "class A1(env.PipelineEnv):\n",
    "    def __init__(\n",
    "        self, \n",
    "        path=\"a1/xml/a1.xml\", \n",
    "        backend='generalized',\n",
    "        reset_noise_scale=0.1,\n",
    "        **kwargs\n",
    "    ):\n",
    "        sys = mjcf.load(path)\n",
    "        n_frames = 1\n",
    "        kwargs['n_frames'] = kwargs.get('n_frames', n_frames)\n",
    "        \n",
    "        super().__init__(sys=sys, backend=backend, **kwargs)\n",
    "        \n",
    "        self.qd_size = self.sys.qd_size()\n",
    "        self.q_size = self.sys.q_size()\n",
    "        self._reset_noise_scale = reset_noise_scale\n",
    "        \n",
    "    def reset(self, rng: jp.ndarray) -> env.State:\n",
    "        rng, rng1, rng2 = jax.random.split(rng, 3)\n",
    "        # q = self.sys.init_q\n",
    "        \n",
    "        # sit down\n",
    "        q = jp.array([\n",
    "            0., 0., 0.14, \n",
    "            1., 0., 0., 0., \n",
    "            0., 1.4, -2.6, \n",
    "            0., 1.4, -2.6, \n",
    "            0., 1.4, -2.6, \n",
    "            0., 1.4, -2.6\n",
    "        ]) \n",
    "        \n",
    "        # standing up\n",
    "        # q = jp.array([\n",
    "        #     0., 0., 0.4, \n",
    "        #     1.0, 0.0, 0., 0., \n",
    "        #     0.0, 0.7, -1.5, \n",
    "        #     0.0, 0.7, -1.5, \n",
    "        #     0.0, 0.7, -1.5, \n",
    "        #     0.0, 0.7, -1.5\n",
    "        # ]) \n",
    "        \n",
    "        qd = jp.zeros(self.qd_size) # velocity initialized to 0\n",
    "        \n",
    "        # low, hi = -self._reset_noise_scale, self._reset_noise_scale\n",
    "        # q = self.sys.init_q + jax.random.uniform(\n",
    "        #     rng1, (self.q_size,), minval=low, maxval=hi\n",
    "        # )\n",
    "        # qd = hi * jax.random.normal(rng2, (self.qd_size,))\n",
    "        \n",
    "        pipeline_state = self.pipeline_init(q, qd)\n",
    "        obs = self._get_obs(pipeline_state)\n",
    "        \n",
    "        reward, done, zero = jp.zeros(3)\n",
    "        info = {}\n",
    "        \n",
    "        return env.State(pipeline_state, obs, reward, done, info)\n",
    "\n",
    "    def _get_obs(self, pipeline_state: base.State) -> jp.ndarray:\n",
    "        \"\"\"Observe ant body position and velocities.\"\"\"\t\n",
    "        qpos = pipeline_state.q\n",
    "        qvel = pipeline_state.qd\n",
    "\n",
    "        return jp.concatenate([qpos] + [qvel])\n",
    "    \n",
    "    def step(self, state: env.State, action: jp.ndarray) -> env.State:\n",
    "        \"\"\"Run one timestep of the environment's dynamics.\"\"\"\n",
    "        pipeline_state0 = state.pipeline_state\n",
    "        pipeline_state = self.pipeline_step(pipeline_state0, action)\n",
    "        obs = self._get_obs(pipeline_state)\n",
    "        \n",
    "        reward, done, zero = jp.zeros(3)\n",
    "        info = {}\n",
    "        \n",
    "        return state.replace(\n",
    "            pipeline_state=pipeline_state, obs=obs, reward=reward, done=done\n",
    "        )"
   ]
  },
  {
   "cell_type": "code",
   "execution_count": 4,
   "metadata": {},
   "outputs": [
    {
     "name": "stderr",
     "output_type": "stream",
     "text": [
      "/home/duynguyen/miniconda3/envs/spirit-rl-pybullet/lib/python3.8/site-packages/brax/io/mjcf.py:381: UserWarning: unrecognized collider, geom_type: 5\n",
      "  warnings.warn(f'unrecognized collider, geom_type: {typ}')\n"
     ]
    }
   ],
   "source": [
    "a1_env = A1()\n",
    "state = jax.jit(a1_env.reset, backend=\"cpu\")(rng=jax.random.PRNGKey(seed=0))\n",
    "# HTML(html.render(a1_env.sys, [state.pipeline_state]))\n",
    "with open(\"render.html\", \"w\") as file:\n",
    "    file.write(html.render(a1_env.sys.replace(dt=0.1), [state.pipeline_state]))\n",
    "file.close()"
   ]
  },
  {
   "cell_type": "code",
   "execution_count": 5,
   "metadata": {},
   "outputs": [],
   "source": [
    "jit_env_reset = jax.jit(a1_env.reset, backend=\"cpu\")\n",
    "jit_env_step = jax.jit(a1_env.step, backend=\"cpu\")"
   ]
  },
  {
   "cell_type": "code",
   "execution_count": 6,
   "metadata": {},
   "outputs": [],
   "source": [
    "rollout = []\n",
    "rng = jax.random.PRNGKey(seed=1)\n",
    "state = jit_env_reset(rng=rng)\n",
    "\n",
    "current_joint = jp.array([\n",
    "    0., 1.4, -2.6, \n",
    "    0., 1.4, -2.6, \n",
    "    0., 1.4, -2.6, \n",
    "    0., 1.4, -2.6\n",
    "])\n",
    "\n",
    "reference_joint = jp.array([\n",
    "    0.0, 0.8, -1.6, \n",
    "    0.0, 0.8, -1.6, \n",
    "    0.0, 0.8, -1.6, \n",
    "    0.0, 0.8, -1.6\n",
    "])\n",
    "\n",
    "trajectory = jp.linspace(current_joint, reference_joint, 100)\n",
    "\n",
    "for i in range(200):\n",
    "    if i < 100:\n",
    "        reference_pos = trajectory[i]\n",
    "        \n",
    "    rollout.append(state.pipeline_state)\n",
    "    joint_pos = state.pipeline_state.q[7:]\n",
    "    joint_vel = state.pipeline_state.qd[6:]\n",
    "    e_pos = reference_pos - joint_pos\n",
    "    e_v = jp.zeros(12) - joint_vel\n",
    "    \n",
    "    feedback_abduction = e_pos*120.0 + e_v*0.5\n",
    "    abduction_action = jp.array([feedback_abduction[j] for j in [0, 3, 6, 9]])\n",
    "    \n",
    "    feedback_hip = e_pos*80.0 + e_v*1.0\n",
    "    hip_action = jp.array([feedback_hip[j] for j in [1, 4, 7, 10]])\n",
    "    \n",
    "    feedback_knee = e_pos*120.0 + e_v*2.0\n",
    "    knee_action = jp.array([feedback_knee[j] for j in [2, 5, 8, 11]])\n",
    "\n",
    "    action = jp.array([abduction_action, hip_action, knee_action]).T.reshape(-1)\n",
    "    state = jit_env_step(state, action)"
   ]
  },
  {
   "cell_type": "code",
   "execution_count": 7,
   "metadata": {},
   "outputs": [
    {
     "data": {
      "image/png": "[encoded data removed]",
      "text/plain": [
       "<Figure size 800x600 with 3 Axes>"
      ]
     },
     "metadata": {},
     "output_type": "display_data"
    }
   ],
   "source": [
    "fig, ax = plt.subplots(3, 1)\n",
    "fig.set_size_inches((8, 6))\n",
    "for i in range(3):\n",
    "    ax[i].plot(trajectory[:, i].tolist() + [trajectory[-1, i]] * 100)\n",
    "    ax[i].plot([x.q[7 + i] for x in rollout])\n",
    "plt.show()"
   ]
  },
  {
   "cell_type": "code",
   "execution_count": 159,
   "metadata": {},
   "outputs": [],
   "source": [
    "with open(\"render.html\", \"w\") as file:\n",
    "    file.write(html.render(a1_env.sys, rollout))\n",
    "file.close()"
   ]
  },
  {
   "cell_type": "code",
   "execution_count": null,
   "metadata": {},
   "outputs": [],
   "source": [
    "state.pipeline_state.x.rot[0]"
   ]
  },
  {
   "cell_type": "code",
   "execution_count": null,
   "metadata": {},
   "outputs": [],
   "source": [
    "state.pipeline_state.q[3:7]"
   ]
  },
  {
   "cell_type": "markdown",
   "metadata": {},
   "source": [
    "Define the following state variables to be available:\n",
    "\n",
    "| state variable      | state reference                                         |\n",
    "----------------------|---------------------------------------------------------|\n",
    "| z                   | `q[2]` or `x[2]`                                        |\n",
    "| roll, pitch, yaw    | `brax.math.quat_to_euler(.)` with `q[3:7]` or `x.rot[0]`|\n",
    "| w_x, w_y, w_z       | `xd.ang[0]` or `qd[3:6]`                                |\n",
    "| v_x, v_y, v_z       | `xd.vel[0]` or `qd[:3]`                                 |\n",
    "| theta_j (joint pos) | `q[7:]`                                                 |\n",
    "| theta_j_dot         | `qd[6:]`                                                |"
   ]
  },
  {
   "cell_type": "code",
   "execution_count": null,
   "metadata": {},
   "outputs": [],
   "source": [
    "# get jacobian matrix\n",
    "def integrate_forward(x, u):\n",
    "    pipeline_state = a1_env.pipeline_init(x[:19], x[19:])\n",
    "    qpos = pipeline_state.q\n",
    "    qvel = pipeline_state.qd\n",
    "    obs = jp.concatenate([qpos] + [qvel])\n",
    "    reward, done, zero = jp.zeros(3)\n",
    "    info = {}\n",
    "    state = jit_env_step(env.State(pipeline_state, obs, reward, done, info), u)\n",
    "    \n",
    "    q = state.pipeline_state.q\n",
    "    qd = state.pipeline_state.qd\n",
    "    return jp.concatenate((q, qd), axis=0)\n",
    "\n",
    "jacobian_fn = jax.jit(jax.jacfwd(integrate_forward, argnums=[0, 1]))\n",
    "\n",
    "q = state.pipeline_state.q\n",
    "qd = state.pipeline_state.qd\n",
    "action = jp.ones(12) # dummy control\n",
    "x = jp.concatenate((q, qd), axis=0)\n",
    "\n",
    "state = jit_env_step(state, action)\n",
    "A, B = jacobian_fn(x, action)\n",
    "print(A.shape, B.shape)"
   ]
  },
  {
   "cell_type": "code",
   "execution_count": null,
   "metadata": {},
   "outputs": [],
   "source": [
    "# a better attempt to avoid re-initializing the pipeline\n",
    "def integrate_forward(x, u, state):\n",
    "    state = jit_env_step(state.replace(pipeline_state=state.pipeline_state.replace(q=x[:19], qd=x[19:])), u)\n",
    "    q = state.pipeline_state.q\n",
    "    qd = state.pipeline_state.qd\n",
    "    return jp.concatenate((q, qd), axis=0)\n",
    "\n",
    "jax_integrate_forward = jax.jit(jax.jacfwd(integrate_forward, argnums=[0, 1]), backend=\"cpu\")"
   ]
  },
  {
   "cell_type": "code",
   "execution_count": null,
   "metadata": {},
   "outputs": [],
   "source": [
    "q = state.pipeline_state.q\n",
    "qd = state.pipeline_state.qd\n",
    "action = jp.ones(12) # dummy control\n",
    "x = jp.concatenate((q, qd), axis=0)\n",
    "\n",
    "A, B = jax_integrate_forward(x, action, state)\n",
    "print(A.shape, B.shape)"
   ]
  },
  {
   "cell_type": "markdown",
   "metadata": {},
   "source": [
    "Add low-level control (positional control) to A1 class"
   ]
  },
  {
   "cell_type": "code",
   "execution_count": 4,
   "metadata": {},
   "outputs": [],
   "source": [
    "class A1(env.PipelineEnv):\n",
    "    def __init__(\n",
    "        self, \n",
    "        path=\"a1/xml/a1.xml\", \n",
    "        backend='generalized',\n",
    "        reset_noise_scale=0.1,\n",
    "        **kwargs\n",
    "    ):\n",
    "        sys = mjcf.load(path)\n",
    "        n_frames = 1\n",
    "        kwargs['n_frames'] = kwargs.get('n_frames', n_frames)\n",
    "        \n",
    "        super().__init__(sys=sys, backend=backend, **kwargs)\n",
    "        \n",
    "        self.qd_size = self.sys.qd_size()\n",
    "        self.q_size = self.sys.q_size()\n",
    "        self._reset_noise_scale = reset_noise_scale\n",
    "        \n",
    "    def reset(self, rng: jp.ndarray) -> env.State:\n",
    "        # sit down\n",
    "        q = jp.array([\n",
    "            0., 0., 0.14, \n",
    "            1., 0., 0., 0., \n",
    "            0., 1.4, -2.6, \n",
    "            0., 1.4, -2.6, \n",
    "            0., 1.4, -2.6, \n",
    "            0., 1.4, -2.6\n",
    "        ]) \n",
    "        \n",
    "        qd = jp.zeros(self.qd_size) # velocity initialized to 0\n",
    "        \n",
    "        pipeline_state = self.pipeline_init(q, qd)\n",
    "        obs = self._get_obs(pipeline_state)\n",
    "        \n",
    "        reward, done, zero = jp.zeros(3)\n",
    "        info = {}\n",
    "        \n",
    "        return env.State(pipeline_state, obs, reward, done, info)\n",
    "\n",
    "    def _get_obs(self, pipeline_state: base.State) -> jp.ndarray:\n",
    "        \"\"\"Observe ant body position and velocities.\"\"\"\t\n",
    "        qpos = pipeline_state.q\n",
    "        qvel = pipeline_state.qd\n",
    "\n",
    "        return jp.concatenate([qpos] + [qvel])\n",
    "    \n",
    "    def step(self, state: env.State, action: jp.ndarray) -> env.State:\n",
    "        \"\"\"Run one timestep of the environment's dynamics.\"\"\"\n",
    "        # low level control turning reference position (input action) to torque:\n",
    "        pipeline_state0 = state.pipeline_state\n",
    "        \n",
    "        joint_pos = pipeline_state0.q[7:]\n",
    "        joint_vel = pipeline_state0.qd[6:]\n",
    "        e_pos = action - joint_pos\n",
    "        e_v = jp.zeros(12) - joint_vel\n",
    "\n",
    "        feedback_abduction = e_pos*120.0 + e_v*0.5\n",
    "        abduction_action = jp.array([feedback_abduction[j] for j in [0, 3, 6, 9]])\n",
    "\n",
    "        feedback_hip = e_pos*80.0 + e_v*1.0\n",
    "        hip_action = jp.array([feedback_hip[j] for j in [1, 4, 7, 10]])\n",
    "\n",
    "        feedback_knee = e_pos*120.0 + e_v*2.0\n",
    "        knee_action = jp.array([feedback_knee[j] for j in [2, 5, 8, 11]])\n",
    "\n",
    "        action = jp.array([abduction_action, hip_action, knee_action]).T.reshape(-1)\n",
    "        \n",
    "        pipeline_state = self.pipeline_step(pipeline_state0, action)\n",
    "        obs = self._get_obs(pipeline_state)\n",
    "        \n",
    "        reward, done, zero = jp.zeros(3)\n",
    "        info = {}\n",
    "        \n",
    "        return state.replace(\n",
    "            pipeline_state=pipeline_state, obs=obs, reward=reward, done=done\n",
    "        )"
   ]
  },
  {
   "cell_type": "code",
   "execution_count": 5,
   "metadata": {},
   "outputs": [
    {
     "name": "stderr",
     "output_type": "stream",
     "text": [
      "/home/duynguyen/miniconda3/envs/spirit-rl-pybullet/lib/python3.8/site-packages/brax/io/mjcf.py:381: UserWarning: unrecognized collider, geom_type: 5\n",
      "  warnings.warn(f'unrecognized collider, geom_type: {typ}')\n"
     ]
    }
   ],
   "source": [
    "a1_env = A1()\n",
    "jit_env_reset = jax.jit(a1_env.reset, backend=\"cpu\")\n",
    "jit_env_step = jax.jit(a1_env.step, backend=\"cpu\")"
   ]
  },
  {
   "cell_type": "code",
   "execution_count": 8,
   "metadata": {},
   "outputs": [],
   "source": [
    "rollout = []\n",
    "rng = jax.random.PRNGKey(seed=1)\n",
    "state = jit_env_reset(rng=rng)\n",
    "\n",
    "current_joint = jp.array([\n",
    "    0., 1.4, -2.6, \n",
    "    0., 1.4, -2.6, \n",
    "    0., 1.4, -2.6, \n",
    "    0., 1.4, -2.6\n",
    "])\n",
    "\n",
    "reference_joint = jp.array([\n",
    "    0.0, 0.8, -1.6, \n",
    "    0.0, 0.8, -1.6, \n",
    "    0.0, 0.8, -1.6,\n",
    "    0.0, 0.8, -1.6\n",
    "])\n",
    "\n",
    "trajectory = jp.linspace(current_joint, reference_joint, 100)\n",
    "\n",
    "for action in trajectory:\n",
    "    rollout.append(state.pipeline_state)\n",
    "    state = jit_env_step(state, action)\n",
    "\n",
    "for _ in range(100):\n",
    "    rollout.append(state.pipeline_state)\n",
    "    state = jit_env_step(state, trajectory[-1])\n",
    "\n",
    "with open(\"render.html\", \"w\") as file:\n",
    "    file.write(html.render(a1_env.sys, rollout))\n",
    "file.close()"
   ]
  },
  {
   "cell_type": "code",
   "execution_count": 9,
   "metadata": {},
   "outputs": [],
   "source": [
    "# jacobian, but the action space now is angular position instead of torque\n",
    "def integrate_forward(x, u, state):\n",
    "    new_state = jit_env_step(\n",
    "        state.replace(pipeline_state=state.pipeline_state.replace(q=x[:19], qd=x[19:])), u\n",
    "    )\n",
    "    return jp.append(new_state.pipeline_state.q, new_state.pipeline_state.qd)\n",
    "\n",
    "jax_integrate_forward = jax.jit(jax.jacfwd(integrate_forward, argnums=[0, 1]), backend=\"cpu\")"
   ]
  },
  {
   "cell_type": "code",
   "execution_count": 11,
   "metadata": {},
   "outputs": [
    {
     "name": "stdout",
     "output_type": "stream",
     "text": [
      "2.385932207107544\n",
      "(37, 37) (37, 12)\n"
     ]
    }
   ],
   "source": [
    "import time\n",
    "\n",
    "q = state.pipeline_state.q\n",
    "qd = state.pipeline_state.qd\n",
    "action = reference_joint + jp.ones(12)*0.1\n",
    "x = jp.concatenate((q, qd), axis=0)\n",
    "\n",
    "cur_time = time.time()\n",
    "A, B = jax_integrate_forward(x, action, state)\n",
    "print(time.time() - cur_time)\n",
    "\n",
    "print(A.shape, B.shape)"
   ]
  },
  {
   "cell_type": "markdown",
   "metadata": {},
   "source": [
    "Inverse kinematics performance controller test"
   ]
  },
  {
   "cell_type": "code",
   "execution_count": 5,
   "metadata": {},
   "outputs": [],
   "source": [
    "from inverse_kinematics.inverse_kinematics_controller import InverseKinematicsController"
   ]
  },
  {
   "cell_type": "code",
   "execution_count": 6,
   "metadata": {},
   "outputs": [],
   "source": [
    "# controller = InverseKinematicsController(Xdist=0.366, Ydist=0.17, height=0.25, coxa=0.038, femur=0.2, tibia=0.2, L=0.8, angle=0, T=1.0, dt=0.01)\n",
    "controller = InverseKinematicsController(Xdist=0.366, Ydist=0.28, height=0.25, coxa=0.038, femur=0.2, tibia=0.2, L=0.8, angle=0, T=1.0, dt=0.01)"
   ]
  },
  {
   "cell_type": "code",
   "execution_count": 7,
   "metadata": {},
   "outputs": [],
   "source": [
    "rollout = []\n",
    "rng = jax.random.PRNGKey(seed=1)\n",
    "state = jit_env_reset(rng=rng)\n",
    "\n",
    "current_joint = jp.array([\n",
    "    0., 1.4, -2.6, \n",
    "    0., 1.4, -2.6, \n",
    "    0., 1.4, -2.6, \n",
    "    0., 1.4, -2.6\n",
    "])\n",
    "\n",
    "# stand up\n",
    "reference_joint = jp.array([\n",
    "    0.0, 0.6, -1.5, \n",
    "    0.0, 0.6, -1.5, \n",
    "    0.0, 0.6, -1.5,\n",
    "    0.0, 0.6, -1.5\n",
    "])\n",
    "\n",
    "trajectory = jp.linspace(current_joint, reference_joint, 100)\n",
    "\n",
    "for action in trajectory:\n",
    "    rollout.append(state.pipeline_state)\n",
    "    state = jit_env_step(state, action)\n",
    "\n",
    "# move from stable stance to first step of performance controller\n",
    "reference_joint = jp.array(controller.get_action(\n",
    "    joint_order = [\"FR\", \"FL\", \"BR\", \"BL\"], offset=[0, 0, 0, 0, 0, 0, 0, 0, 0, 0, 0, 0]\n",
    "))\n",
    "\n",
    "trajectory = jp.linspace(state.pipeline_state.q[7:], reference_joint, 50)\n",
    "\n",
    "for action in trajectory:\n",
    "    rollout.append(state.pipeline_state)\n",
    "    state = jit_env_step(state, action)\n",
    "\n",
    "# start walking\n",
    "for _ in range(500):\n",
    "    rollout.append(state.pipeline_state)\n",
    "    action = jp.array(controller.get_action(\n",
    "        joint_order = [\"FR\", \"FL\", \"BR\", \"BL\"], offset=[0, 0, 0, 0, 0, 0, 0, 0, 0, 0, 0, 0]\n",
    "    ))\n",
    "    state = jit_env_step(state, action)\n",
    "\n",
    "with open(\"render.html\", \"w\") as file:\n",
    "    file.write(html.render(a1_env.sys, rollout, height=800))\n",
    "file.close()"
   ]
  }
 ],
 "metadata": {
  "kernelspec": {
   "display_name": "Python 3 (ipykernel)",
   "language": "python",
   "name": "python3"
  },
  "language_info": {
   "codemirror_mode": {
    "name": "ipython",
    "version": 3
   },
   "file_extension": ".py",
   "mimetype": "text/x-python",
   "name": "python",
   "nbconvert_exporter": "python",
   "pygments_lexer": "ipython3",
   "version": "3.8.12"
  }
 },
 "nbformat": 4,
 "nbformat_minor": 4
}
