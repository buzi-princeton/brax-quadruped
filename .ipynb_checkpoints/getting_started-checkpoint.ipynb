{
 "cells": [
  {
   "cell_type": "code",
   "execution_count": 1,
   "metadata": {},
   "outputs": [
    {
     "name": "stderr",
     "output_type": "stream",
     "text": [
      "/home/buzi/miniconda3/envs/spirit-rl-pybullet/lib/python3.8/site-packages/flax/core/frozen_dict.py:169: FutureWarning: jax.tree_util.register_keypaths is deprecated, and will be removed in a future release. Please use `register_pytree_with_keys()` instead.\n",
      "  jax.tree_util.register_keypaths(\n"
     ]
    }
   ],
   "source": [
    "import functools\n",
    "import jax\n",
    "import os\n",
    "\n",
    "from datetime import datetime\n",
    "from jax import numpy as jp\n",
    "import matplotlib.pyplot as plt\n",
    "\n",
    "from IPython.display import HTML, clear_output\n",
    "\n",
    "import brax\n",
    "\n",
    "import flax\n",
    "from brax.envs import env\n",
    "from brax import envs\n",
    "from brax import base\n",
    "from brax.io import model\n",
    "from brax.io import json\n",
    "from brax.io import html\n",
    "from brax.io import mjcf"
   ]
  },
  {
   "cell_type": "code",
   "execution_count": 2,
   "metadata": {},
   "outputs": [
    {
     "name": "stdout",
     "output_type": "stream",
     "text": [
      "gpu\n"
     ]
    }
   ],
   "source": [
    "from jax.lib import xla_bridge\n",
    "print(xla_bridge.get_backend().platform)"
   ]
  },
  {
   "cell_type": "code",
   "execution_count": 3,
   "metadata": {},
   "outputs": [
    {
     "data": {
      "text/html": [
       "<!DOCTYPE html>\n",
       "<html>\n",
       "\n",
       "  <head>\n",
       "    <title>Brax visualizer</title>\n",
       "    <link rel=\"shortcut icon\" type=\"image/x-icon\" href=\"/favicon.ico\">\n",
       "  </head>\n",
       "\n",
       "  <style>\n",
       "    body {\n",
       "      margin: 0;\n",
       "      padding: 0;\n",
       "    }\n",
       "\n",
       "    #brax-viewer {\n",
       "      height: 480px;\n",
       "      margin: 0;\n",
       "      padding: 0;\n",
       "    }\n",
       "  </style>\n",
       "  <script async src=\"https://unpkg.com/es-module-shims@1.6.3/dist/es-module-shims.js\"></script>\n",
       "\n",
       "  <script type=\"importmap\">\n",
       "    {\n",
       "      \"imports\": {\n",
       "        \"three\": \"https://unpkg.com/three@0.150.1/build/three.module.js\",\n",
       "        \"three/addons/\": \"https://unpkg.com/three@0.150.1/examples/jsm/\",\n",
       "        \"lilgui\": \"https://cdn.jsdelivr.net/npm/lil-gui@0.18.0/+esm\",\n",
       "        \"viewer\": \"https://cdn.jsdelivr.net/gh/google/brax@v0.9.0/brax/visualizer/js/viewer.js\"\n",
       "      }\n",
       "    }\n",
       "  </script>\n",
       "\n",
       "  <script type=\"application/javascript\">\n",
       "  var system = {\"dt\": 0.005, \"gravity\": [0.0, 0.0, -9.8100004196167], \"link\": {\"transform\": {\"pos\": [[0.0, 0.0, 0.0], [0.20000000298023224, 0.20000000298023224, 0.0], [0.20000000298023224, 0.20000000298023224, 0.0], [-0.20000000298023224, 0.20000000298023224, 0.0], [-0.20000000298023224, 0.20000000298023224, 0.0], [-0.20000000298023224, -0.20000000298023224, 0.0], [-0.20000000298023224, -0.20000000298023224, 0.0], [0.20000000298023224, -0.20000000298023224, 0.0], [0.20000000298023224, -0.20000000298023224, 0.0]], \"rot\": [[1.0, 0.0, 0.0, 0.0], [1.0, 0.0, 0.0, 0.0], [1.0, 0.0, 0.0, 0.0], [1.0, 0.0, 0.0, 0.0], [1.0, 0.0, 0.0, 0.0], [1.0, 0.0, 0.0, 0.0], [1.0, 0.0, 0.0, 0.0], [1.0, 0.0, 0.0, 0.0], [1.0, 0.0, 0.0, 0.0]], \"name\": \"Transform\"}, \"joint\": {\"pos\": [[0.0, 0.0, 0.0], [0.0, 0.0, 0.0], [0.0, 0.0, 0.0], [0.0, 0.0, 0.0], [0.0, 0.0, 0.0], [0.0, 0.0, 0.0], [0.0, 0.0, 0.0], [0.0, 0.0, 0.0], [0.0, 0.0, 0.0]], \"rot\": [[1.0, 0.0, 0.0, 0.0], [1.0, 0.0, 0.0, 0.0], [1.0, 0.0, 0.0, 0.0], [1.0, 0.0, 0.0, 0.0], [1.0, 0.0, 0.0, 0.0], [1.0, 0.0, 0.0, 0.0], [1.0, 0.0, 0.0, 0.0], [1.0, 0.0, 0.0, 0.0], [1.0, 0.0, 0.0, 0.0]], \"name\": \"Transform\"}, \"inertia\": {\"transform\": {\"pos\": [[0.0, 0.0, 0.0], [0.10000000149011612, 0.10000000149011612, 0.0], [0.20000000298023224, 0.20000000298023224, 0.0], [-0.10000000149011612, 0.10000000149011612, 0.0], [-0.20000000298023224, 0.20000000298023224, 0.0], [-0.10000000149011612, -0.10000000149011612, 0.0], [-0.20000000298023224, -0.20000000298023224, 0.0], [0.10000000149011612, -0.10000000149011612, 0.0], [0.20000000298023224, -0.20000000298023224, 0.0]], \"rot\": [[0.5, 0.5, -0.5, 0.5], [0.7071067690849304, 0.5, -0.5, 0.0], [0.6532815098762512, 0.6532815098762512, -0.27059805393218994, -0.27059805393218994], [0.7071067690849304, 0.5, 0.5, -0.0], [0.6532815098762512, 0.6532815098762512, 0.27059805393218994, 0.27059805393218994], [0.7071067690849304, -0.5, 0.5, 0.0], [0.6532815098762512, 0.6532815098762512, -0.27059805393218994, -0.27059805393218994], [0.7071067690849304, -0.5, -0.5, 0.0], [0.6532815098762512, 0.6532815098762512, 0.27059805393218994, 0.27059805393218994]], \"name\": \"Transform\"}, \"i\": [[[0.013585715554654598, 0.0, 0.0], [0.0, 0.011120356619358063, 0.0], [0.0, 0.0, 0.011120356619358063]], [[0.000567966082599014, 0.0, 0.0], [0.0, 0.000567966082599014, 0.0], [0.0, 0.0, 0.00011844190157717094]], [[0.0026747905649244785, 0.0, 0.0], [0.0, 0.0026747905649244785, 0.0], [0.0, 0.0, 0.00020943213894497603]], [[0.000567966082599014, 0.0, 0.0], [0.0, 0.000567966082599014, 0.0], [0.0, 0.0, 0.00011844190157717094]], [[0.0026747905649244785, 0.0, 0.0], [0.0, 0.0026747905649244785, 0.0], [0.0, 0.0, 0.00020943213894497603]], [[0.000567966082599014, 0.0, 0.0], [0.0, 0.000567966082599014, 0.0], [0.0, 0.0, 0.00011844190157717094]], [[0.0026747905649244785, 0.0, 0.0], [0.0, 0.0026747905649244785, 0.0], [0.0, 0.0, 0.00020943213894497603]], [[0.000567966082599014, 0.0, 0.0], [0.0, 0.000567966082599014, 0.0], [0.0, 0.0, 0.00011844190157717094]], [[0.0026747905649244785, 0.0, 0.0], [0.0, 0.0026747905649244785, 0.0], [0.0, 0.0, 0.00020943213894497603]]], \"mass\": [0.48388025164604187, 0.03915775194764137, 0.06759220361709595, 0.03915775194764137, 0.06759220361709595, 0.03915775194764137, 0.06759220361709595, 0.03915775194764137, 0.06759220361709595], \"name\": \"Inertia\"}, \"invweight\": [1.1014374494552612, 1.8087762594223022, 3.9844133853912354, 1.8087762594223022, 3.9844133853912354, 1.8087762594223022, 3.9844133853912354, 1.8087762594223022, 3.9844133853912354], \"constraint_stiffness\": [4000.0, 4000.0, 4000.0, 4000.0, 4000.0, 4000.0, 4000.0, 4000.0, 4000.0], \"constraint_vel_damping\": [20.0, 20.0, 20.0, 20.0, 20.0, 20.0, 20.0, 20.0, 20.0], \"constraint_limit_stiffness\": [1000.0, 1000.0, 1000.0, 1000.0, 1000.0, 1000.0, 1000.0, 1000.0, 1000.0], \"constraint_ang_damping\": [10.0, 10.0, 10.0, 10.0, 10.0, 10.0, 10.0, 10.0, 10.0], \"name\": \"Link\"}, \"dof\": {\"motion\": {\"ang\": [[0.0, 0.0, 0.0], [0.0, 0.0, 0.0], [0.0, 0.0, 0.0], [1.0, 0.0, 0.0], [0.0, 1.0, 0.0], [0.0, 0.0, 1.0], [0.0, 0.0, 1.0], [-0.7071067690849304, 0.7071067690849304, 0.0], [0.0, 0.0, 1.0], [0.7071067690849304, 0.7071067690849304, 0.0], [0.0, 0.0, 1.0], [-0.7071067690849304, 0.7071067690849304, 0.0], [0.0, 0.0, 1.0], [0.7071067690849304, 0.7071067690849304, 0.0]], \"vel\": [[1.0, 0.0, 0.0], [0.0, 1.0, 0.0], [0.0, 0.0, 1.0], [0.0, 0.0, 0.0], [0.0, 0.0, 0.0], [0.0, 0.0, 0.0], [0.0, 0.0, 0.0], [0.0, 0.0, 0.0], [0.0, 0.0, 0.0], [0.0, 0.0, 0.0], [0.0, 0.0, 0.0], [0.0, 0.0, 0.0], [0.0, 0.0, 0.0], [0.0, 0.0, 0.0]], \"name\": \"Motion\"}, \"armature\": [0.0, 0.0, 0.0, 0.0, 0.0, 0.0, 1.0, 1.0, 1.0, 1.0, 1.0, 1.0, 1.0, 1.0], \"stiffness\": [0.0, 0.0, 0.0, 0.0, 0.0, 0.0, 0.0, 0.0, 0.0, 0.0, 0.0, 0.0, 0.0, 0.0], \"damping\": [0.0, 0.0, 0.0, 0.0, 0.0, 0.0, 1.0, 1.0, 1.0, 1.0, 1.0, 1.0, 1.0, 1.0], \"limit\": [[\"-inf\", \"-inf\", \"-inf\", \"-inf\", \"-inf\", \"-inf\", -0.5235987901687622, 0.5235987901687622, -0.5235987901687622, -1.2217304706573486, -0.5235987901687622, -1.2217304706573486, -0.5235987901687622, 0.5235987901687622], [\"inf\", \"inf\", \"inf\", \"inf\", \"inf\", \"inf\", 0.5235987901687622, 1.2217304706573486, 0.5235987901687622, -0.5235987901687622, 0.5235987901687622, -0.5235987901687622, 0.5235987901687622, 1.2217304706573486]], \"invweight\": [1.1014374494552612, 1.1014374494552612, 1.1014374494552612, 6.536040306091309, 6.536040306091309, 6.536040306091309, 0.9826359748840332, 0.9951024055480957, 0.9826359748840332, 0.9951024055480957, 0.9826359748840332, 0.9951024055480957, 0.9826359748840332, 0.9951024055480957], \"name\": \"DoF\"}, \"geoms\": {\"world\": [{\"link_idx\": null, \"transform\": {\"pos\": [0.0, 0.0, 0.0], \"rot\": [1.0, 0.0, 0.0, 0.0], \"name\": \"Transform\"}, \"friction\": 1.0, \"elasticity\": 0.0, \"rgba\": [0.4000000059604645, 0.33000001311302185, 0.25999999046325684, 1.0], \"name\": \"Plane\"}], \"torso\": [{\"link_idx\": 0, \"transform\": {\"pos\": [0.0, 0.0, 0.0], \"rot\": [1.0, 0.0, 0.0, 0.0], \"name\": \"Transform\"}, \"friction\": 1.0, \"elasticity\": 0.0, \"radius\": 0.25, \"rgba\": [0.4000000059604645, 0.33000001311302185, 0.25999999046325684, 1.0], \"name\": \"Sphere\"}, {\"link_idx\": 0, \"transform\": {\"pos\": [0.10000000149011612, 0.10000000149011612, 0.0], \"rot\": [0.7071067690849304, 0.5, -0.5, 0.0], \"name\": \"Transform\"}, \"friction\": 1.0, \"elasticity\": 0.0, \"radius\": 0.07999999821186066, \"length\": 0.2828427255153656, \"rgba\": [0.4000000059604645, 0.33000001311302185, 0.25999999046325684, 1.0], \"name\": \"Capsule\"}, {\"link_idx\": 0, \"transform\": {\"pos\": [-0.10000000149011612, 0.10000000149011612, 0.0], \"rot\": [0.7071067690849304, 0.5, 0.5, -0.0], \"name\": \"Transform\"}, \"friction\": 1.0, \"elasticity\": 0.0, \"radius\": 0.07999999821186066, \"length\": 0.2828427255153656, \"rgba\": [0.4000000059604645, 0.33000001311302185, 0.25999999046325684, 1.0], \"name\": \"Capsule\"}, {\"link_idx\": 0, \"transform\": {\"pos\": [-0.10000000149011612, -0.10000000149011612, 0.0], \"rot\": [0.7071067690849304, -0.5, 0.5, 0.0], \"name\": \"Transform\"}, \"friction\": 1.0, \"elasticity\": 0.0, \"radius\": 0.07999999821186066, \"length\": 0.2828427255153656, \"rgba\": [0.4000000059604645, 0.33000001311302185, 0.25999999046325684, 1.0], \"name\": \"Capsule\"}, {\"link_idx\": 0, \"transform\": {\"pos\": [0.10000000149011612, -0.10000000149011612, 0.0], \"rot\": [0.7071067690849304, -0.5, -0.5, 0.0], \"name\": \"Transform\"}, \"friction\": 1.0, \"elasticity\": 0.0, \"radius\": 0.07999999821186066, \"length\": 0.2828427255153656, \"rgba\": [0.4000000059604645, 0.33000001311302185, 0.25999999046325684, 1.0], \"name\": \"Capsule\"}], \"aux_1\": [{\"link_idx\": 1, \"transform\": {\"pos\": [0.10000000149011612, 0.10000000149011612, 0.0], \"rot\": [0.7071067690849304, 0.5, -0.5, 0.0], \"name\": \"Transform\"}, \"friction\": 1.0, \"elasticity\": 0.0, \"radius\": 0.07999999821186066, \"length\": 0.2828427255153656, \"rgba\": [0.4000000059604645, 0.33000001311302185, 0.25999999046325684, 1.0], \"name\": \"Capsule\"}], \"link 2\": [{\"link_idx\": 2, \"transform\": {\"pos\": [0.20000000298023224, 0.20000000298023224, 0.0], \"rot\": [0.7071067690849304, 0.5, -0.5, 0.0], \"name\": \"Transform\"}, \"friction\": 1.0, \"elasticity\": 0.0, \"radius\": 0.07999999821186066, \"length\": 0.5656854510307312, \"rgba\": [0.4000000059604645, 0.33000001311302185, 0.25999999046325684, 1.0], \"name\": \"Capsule\"}, {\"link_idx\": 2, \"transform\": {\"pos\": [0.4000000059604645, 0.4000000059604645, 0.0], \"rot\": [1.0, 0.0, 0.0, 0.0], \"name\": \"Transform\"}, \"friction\": 1.0, \"elasticity\": 0.0, \"radius\": 0.07999999821186066, \"rgba\": [0.4000000059604645, 0.33000001311302185, 0.25999999046325684, 1.0], \"name\": \"Sphere\"}], \"aux_2\": [{\"link_idx\": 3, \"transform\": {\"pos\": [-0.10000000149011612, 0.10000000149011612, 0.0], \"rot\": [0.7071067690849304, 0.5, 0.5, -0.0], \"name\": \"Transform\"}, \"friction\": 1.0, \"elasticity\": 0.0, \"radius\": 0.07999999821186066, \"length\": 0.2828427255153656, \"rgba\": [0.4000000059604645, 0.33000001311302185, 0.25999999046325684, 1.0], \"name\": \"Capsule\"}], \"link 4\": [{\"link_idx\": 4, \"transform\": {\"pos\": [-0.20000000298023224, 0.20000000298023224, 0.0], \"rot\": [0.7071067690849304, 0.5, 0.5, -0.0], \"name\": \"Transform\"}, \"friction\": 1.0, \"elasticity\": 0.0, \"radius\": 0.07999999821186066, \"length\": 0.5656854510307312, \"rgba\": [0.4000000059604645, 0.33000001311302185, 0.25999999046325684, 1.0], \"name\": \"Capsule\"}, {\"link_idx\": 4, \"transform\": {\"pos\": [-0.4000000059604645, 0.4000000059604645, 0.0], \"rot\": [1.0, 0.0, 0.0, 0.0], \"name\": \"Transform\"}, \"friction\": 1.0, \"elasticity\": 0.0, \"radius\": 0.07999999821186066, \"rgba\": [0.4000000059604645, 0.33000001311302185, 0.25999999046325684, 1.0], \"name\": \"Sphere\"}], \"aux_3\": [{\"link_idx\": 5, \"transform\": {\"pos\": [-0.10000000149011612, -0.10000000149011612, 0.0], \"rot\": [0.7071067690849304, -0.5, 0.5, 0.0], \"name\": \"Transform\"}, \"friction\": 1.0, \"elasticity\": 0.0, \"radius\": 0.07999999821186066, \"length\": 0.2828427255153656, \"rgba\": [0.4000000059604645, 0.33000001311302185, 0.25999999046325684, 1.0], \"name\": \"Capsule\"}], \"link 6\": [{\"link_idx\": 6, \"transform\": {\"pos\": [-0.20000000298023224, -0.20000000298023224, 0.0], \"rot\": [0.7071067690849304, -0.5, 0.5, 0.0], \"name\": \"Transform\"}, \"friction\": 1.0, \"elasticity\": 0.0, \"radius\": 0.07999999821186066, \"length\": 0.5656854510307312, \"rgba\": [0.4000000059604645, 0.33000001311302185, 0.25999999046325684, 1.0], \"name\": \"Capsule\"}, {\"link_idx\": 6, \"transform\": {\"pos\": [-0.4000000059604645, -0.4000000059604645, 0.0], \"rot\": [1.0, 0.0, 0.0, 0.0], \"name\": \"Transform\"}, \"friction\": 1.0, \"elasticity\": 0.0, \"radius\": 0.07999999821186066, \"rgba\": [0.4000000059604645, 0.33000001311302185, 0.25999999046325684, 1.0], \"name\": \"Sphere\"}], \"aux_4\": [{\"link_idx\": 7, \"transform\": {\"pos\": [0.10000000149011612, -0.10000000149011612, 0.0], \"rot\": [0.7071067690849304, -0.5, -0.5, 0.0], \"name\": \"Transform\"}, \"friction\": 1.0, \"elasticity\": 0.0, \"radius\": 0.07999999821186066, \"length\": 0.2828427255153656, \"rgba\": [0.4000000059604645, 0.33000001311302185, 0.25999999046325684, 1.0], \"name\": \"Capsule\"}], \"link 8\": [{\"link_idx\": 8, \"transform\": {\"pos\": [0.20000000298023224, -0.20000000298023224, 0.0], \"rot\": [0.7071067690849304, -0.5, -0.5, 0.0], \"name\": \"Transform\"}, \"friction\": 1.0, \"elasticity\": 0.0, \"radius\": 0.07999999821186066, \"length\": 0.5656854510307312, \"rgba\": [0.4000000059604645, 0.33000001311302185, 0.25999999046325684, 1.0], \"name\": \"Capsule\"}, {\"link_idx\": 8, \"transform\": {\"pos\": [0.4000000059604645, -0.4000000059604645, 0.0], \"rot\": [1.0, 0.0, 0.0, 0.0], \"name\": \"Transform\"}, \"friction\": 1.0, \"elasticity\": 0.0, \"radius\": 0.07999999821186066, \"rgba\": [0.4000000059604645, 0.33000001311302185, 0.25999999046325684, 1.0], \"name\": \"Sphere\"}]}, \"actuator\": {\"ctrl_range\": [[-1.0, 1.0], [-1.0, 1.0], [-1.0, 1.0], [-1.0, 1.0], [-1.0, 1.0], [-1.0, 1.0], [-1.0, 1.0], [-1.0, 1.0]], \"gear\": [200.0, 200.0, 200.0, 200.0, 200.0, 200.0, 200.0, 200.0], \"name\": \"Actuator\"}, \"init_q\": [0.0, 0.0, 0.550000011920929, 1.0, 0.0, 0.0, 0.0, 0.0, 1.0, 0.0, -1.0, 0.0, -1.0, 0.0, 1.0], \"solver_params_joint\": [0.019999999552965164, 1.0, 0.8999999761581421, 0.949999988079071, 0.0010000000474974513, 0.5, 2.0], \"solver_params_contact\": [0.019999999552965164, 1.0, 0.8999999761581421, 0.949999988079071, 0.0010000000474974513, 0.5, 2.0], \"vel_damping\": 0.0, \"ang_damping\": 0.0, \"baumgarte_erp\": 0.10000000149011612, \"spring_mass_scale\": 1.0, \"spring_inertia_scale\": 1.0, \"joint_scale_ang\": 0.20000000298023224, \"joint_scale_pos\": 0.5, \"collide_scale\": 1.0, \"geom_masks\": [4294967296, 0, 0, 1], \"link_names\": [\"torso\", \"aux_1\", \"\", \"aux_2\", \"\", \"aux_3\", \"\", \"aux_4\", \"\"], \"link_types\": \"f11111111\", \"link_parents\": [-1, 0, 1, 0, 3, 0, 5, 0, 7], \"actuator_types\": \"mmmmmmmm\", \"actuator_link_id\": [7, 8, 1, 2, 3, 4, 5, 6], \"actuator_qid\": [13, 14, 7, 8, 9, 10, 11, 12], \"actuator_qdid\": [12, 13, 6, 7, 8, 9, 10, 11], \"matrix_inv_iterations\": 10, \"solver_iterations\": 4, \"solver_maxls\": 15, \"name\": \"System\", \"states\": {\"x\": {\"pos\": [[[0.02803013287484646, -0.026197170838713646, 0.6366886496543884], [0.20735488831996918, 0.2337643802165985, 0.5838868618011475], [0.38174721598625183, 0.4970046877861023, 0.5308090448379517], [-0.2366880178451538, 0.1532817929983139, 0.6212934851646423], [-0.5022366046905518, 0.33155080676078796, 0.6061438322067261], [-0.15129463374614716, -0.2861587107181549, 0.6894904375076294], [-0.3253554701805115, -0.5496147274971008, 0.7425860166549683], [0.29274827241897583, -0.2056761234998703, 0.6520838141441345], [0.567772388458252, -0.36919525265693665, 0.6642754673957825]]], \"rot\": [[[0.9919909238815308, -0.07909941673278809, 0.034275855869054794, 0.09231772273778915], [0.9910935759544373, -0.07877867668867111, 0.03500673919916153, 0.1014983132481575], [0.8453352451324463, -0.42244359850883484, 0.318027138710022, 0.07621350884437561], [0.9917736649513245, -0.07901956140995026, 0.03445954620838165, 0.09462233632802963], [0.8739079236984253, -0.3533302843570709, -0.31133949756622314, 0.1204596608877182], [0.9910306930541992, -0.07875702530145645, 0.03505544364452362, 0.10211101919412613], [0.9112712740898132, 0.29614198207855225, -0.26635825634002686, 0.10458508878946304], [0.9887644648551941, -0.07803241908550262, 0.03664006292819977, 0.1221201941370964], [0.8927887678146362, 0.21072903275489807, 0.391666442155838, 0.07154760509729385]]], \"name\": \"Transform\"}, \"contact\": null}};\n",
       "  </script>\n",
       "\n",
       "  <body>\n",
       "\n",
       "    <div id=\"brax-viewer\"></div>\n",
       "\n",
       "    <script type=\"module\">\n",
       "      import {Viewer} from 'viewer';\n",
       "      const domElement = document.getElementById(\"brax-viewer\");\n",
       "      var viewer = new Viewer(domElement, system);\n",
       "    </script>\n",
       "\n",
       "  </body>\n",
       "\n",
       "</html>"
      ],
      "text/plain": [
       "<IPython.core.display.HTML object>"
      ]
     },
     "execution_count": 3,
     "metadata": {},
     "output_type": "execute_result"
    }
   ],
   "source": [
    "#@title Load Env { run: \"auto\" }\n",
    "\n",
    "env_name = 'ant'  # @param ['ant', 'halfcheetah', 'hopper', 'humanoid', 'humanoidstandup', 'inverted_pendulum', 'inverted_double_pendulum', 'pusher', 'reacher', 'walker2d']\n",
    "backend = 'positional'  # @param ['generalized', 'positional', 'spring']\n",
    "\n",
    "ant_env = envs.get_environment(env_name=env_name,\n",
    "                              backend=backend)\n",
    "state = jax.jit(ant_env.reset, backend=\"cpu\")(rng=jax.random.PRNGKey(seed=0))\n",
    "\n",
    "HTML(html.render(ant_env.sys, [state.pipeline_state]))"
   ]
  },
  {
   "cell_type": "code",
   "execution_count": 98,
   "metadata": {},
   "outputs": [],
   "source": [
    "# an attempt to create the class A1 for the A1 robot XML\n",
    "\n",
    "class A1(env.PipelineEnv):\n",
    "    def __init__(\n",
    "        self, \n",
    "        path=\"a1/xml/a1.xml\", \n",
    "        backend='generalized',\n",
    "        reset_noise_scale=0.1,\n",
    "        **kwargs\n",
    "    ):\n",
    "        sys = mjcf.load(path)\n",
    "        n_frames = 5\n",
    "        kwargs['n_frames'] = kwargs.get('n_frames', n_frames)\n",
    "        \n",
    "        super().__init__(sys=sys, backend=backend, **kwargs)\n",
    "        \n",
    "        self.qd_size = self.sys.qd_size()\n",
    "        self.q_size = self.sys.q_size()\n",
    "        self._reset_noise_scale = reset_noise_scale\n",
    "        \n",
    "    def reset(self, rng: jp.ndarray) -> env.State:\n",
    "        rng, rng1, rng2 = jax.random.split(rng, 3)\n",
    "        # q = self.sys.init_q\n",
    "        \n",
    "        # q = jp.array([\n",
    "        #     0., 0., 0.14, \n",
    "        #     1., 0., 0., 0., \n",
    "        #     0., 1.4, -2.6, \n",
    "        #     0., 1.4, -2.6, \n",
    "        #     0., 1.4, -2.6, \n",
    "        #     0., 1.4, -2.6\n",
    "        # ]) \n",
    "        q = jp.array([\n",
    "            0., 0., 0.3, \n",
    "            0.0, 1., 0., 0., \n",
    "            0.0, 0.7, -1.5, \n",
    "            0.0, 0.7, -1.5, \n",
    "            0.0, 0.7, -1.5, \n",
    "            0.0, 0.7, -1.5\n",
    "        ]) \n",
    "        qd = jp.zeros(self.qd_size) # velocity initialized to 0\n",
    "        \n",
    "        # low, hi = -self._reset_noise_scale, self._reset_noise_scale\n",
    "        # q = self.sys.init_q + jax.random.uniform(\n",
    "        #     rng1, (self.q_size,), minval=low, maxval=hi\n",
    "        # )\n",
    "        # qd = hi * jax.random.normal(rng2, (self.qd_size,))\n",
    "        \n",
    "        pipeline_state = self.pipeline_init(q, qd)\n",
    "        obs = self._get_obs(pipeline_state)\n",
    "        \n",
    "        reward, done, zero = jp.zeros(3)\n",
    "        info = {}\n",
    "        \n",
    "        return env.State(pipeline_state, obs, reward, done, info)\n",
    "\n",
    "    def _get_obs(self, pipeline_state: base.State) -> jp.ndarray:\n",
    "        \"\"\"Observe ant body position and velocities.\"\"\"\t\n",
    "        qpos = pipeline_state.q\n",
    "        qvel = pipeline_state.qd\n",
    "\n",
    "        return jp.concatenate([qpos] + [qvel])\n",
    "    \n",
    "    def step(self, state: env.State, action: jp.ndarray) -> env.State:\n",
    "        \"\"\"Run one timestep of the environment's dynamics.\"\"\"\n",
    "        pipeline_state0 = state.pipeline_state\n",
    "        pipeline_state = self.pipeline_step(pipeline_state0, action)\n",
    "        obs = self._get_obs(pipeline_state)\n",
    "        \n",
    "        reward, done, zero = jp.zeros(3)\n",
    "        info = {}\n",
    "        \n",
    "        return state.replace(\n",
    "            pipeline_state=pipeline_state, obs=obs, reward=reward, done=done\n",
    "        )"
   ]
  },
  {
   "cell_type": "code",
   "execution_count": 99,
   "metadata": {},
   "outputs": [],
   "source": [
    "a1_env = A1()"
   ]
  },
  {
   "cell_type": "code",
   "execution_count": 100,
   "metadata": {},
   "outputs": [],
   "source": [
    "state = jax.jit(a1_env.reset, backend=\"cpu\")(rng=jax.random.PRNGKey(seed=0))"
   ]
  },
  {
   "cell_type": "code",
   "execution_count": null,
   "metadata": {},
   "outputs": [],
   "source": [
    "HTML(html.render(a1_env.sys, [state.pipeline_state]))"
   ]
  },
  {
   "cell_type": "code",
   "execution_count": 103,
   "metadata": {},
   "outputs": [],
   "source": [
    "jit_env_reset = jax.jit(a1_env.reset, backend=\"cpu\")\n",
    "jit_env_step = jax.jit(a1_env.step, backend=\"cpu\")"
   ]
  },
  {
   "cell_type": "code",
   "execution_count": 104,
   "metadata": {},
   "outputs": [],
   "source": [
    "state = jit_env_reset(rng=jax.random.PRNGKey(seed=0))"
   ]
  },
  {
   "cell_type": "code",
   "execution_count": 107,
   "metadata": {},
   "outputs": [],
   "source": [
    "rollout = []\n",
    "rng = jax.random.PRNGKey(seed=1)\n",
    "state = jit_env_reset(rng=rng)\n",
    "\n",
    "reference_joint = jp.array([\n",
    "    0.0, 0.7, -1.5, \n",
    "    0.0, 0.7, -1.5, \n",
    "    0.0, 0.7, -1.5, \n",
    "    0.0, 0.7, -1.5\n",
    "])\n",
    "\n",
    "for _ in range(20):\n",
    "    rollout.append(state.pipeline_state)\n",
    "    joint_pos = state.pipeline_state.q[7:]\n",
    "    joint_vel = state.pipeline_state.qd[6:]\n",
    "    e_pos = reference_joint - joint_pos\n",
    "    # e_v = jp.zeros(12) - joint_vel\n",
    "    action = e_pos*10.0\n",
    "    state = jit_env_step(state, action)"
   ]
  },
  {
   "cell_type": "code",
   "execution_count": 108,
   "metadata": {},
   "outputs": [],
   "source": [
    "with open(\"render.html\", \"w\") as file:\n",
    "    file.write(html.render(a1_env.sys.replace(dt=0.1), rollout))\n",
    "file.close()"
   ]
  },
  {
   "cell_type": "code",
   "execution_count": null,
   "metadata": {},
   "outputs": [],
   "source": [
    "state.pipeline_state.x.rot[0]"
   ]
  },
  {
   "cell_type": "code",
   "execution_count": null,
   "metadata": {},
   "outputs": [],
   "source": [
    "state.pipeline_state.q[3:7]"
   ]
  },
  {
   "cell_type": "markdown",
   "metadata": {},
   "source": [
    "Define the following state variables to be available:\n",
    "\n",
    "| state variable      | state reference                                         |\n",
    "----------------------|---------------------------------------------------------|\n",
    "| z                   | `q[2]` or `x[2]`                                        |\n",
    "| roll, pitch, yaw    | `brax.math.quat_to_euler(.)` with `q[3:7]` or `x.rot[0]`|\n",
    "| w_x, w_y, w_z       | `xd.ang[0]` or `qd[3:6]`                                |\n",
    "| v_x, v_y, v_z       | `xd.vel[0]` or `qd[:3]`                                 |\n",
    "| theta_j (joint pos) | `q[7:]`                                                 |\n",
    "| theta_j_dot         | `qd[6:]`                                                |"
   ]
  },
  {
   "cell_type": "code",
   "execution_count": null,
   "metadata": {},
   "outputs": [],
   "source": [
    "def integrate_forward(x, u):\n",
    "    pipeline_state = a1_env.pipeline_init(x[:19], x[19:])\n",
    "    qpos = pipeline_state.q\n",
    "    qvel = pipeline_state.qd\n",
    "    obs = jp.concatenate([qpos] + [qvel])\n",
    "    reward, done, zero = jp.zeros(3)\n",
    "    info = {}\n",
    "    state = jit_env_step(env.State(pipeline_state, obs, reward, done, info), u)\n",
    "    \n",
    "    q = state.pipeline_state.q\n",
    "    qd = state.pipeline_state.qd\n",
    "    return jp.concatenate((q, qd), axis=0)\n",
    "\n",
    "jacobian_fn = jax.jit(jax.jacfwd(integrate_forward, argnums=[0, 1]))"
   ]
  },
  {
   "cell_type": "code",
   "execution_count": null,
   "metadata": {},
   "outputs": [],
   "source": [
    "q = state.pipeline_state.q\n",
    "qd = state.pipeline_state.qd\n",
    "action = jp.ones(12) # dummy control\n",
    "x = jp.concatenate((q, qd), axis=0)\n",
    "\n",
    "state = jit_env_step(state, action)\n",
    "A, B = jacobian_fn(x, action)\n",
    "print(A.shape, B.shape)"
   ]
  },
  {
   "cell_type": "code",
   "execution_count": null,
   "metadata": {},
   "outputs": [],
   "source": [
    "# let's see how bad our linearized dynamics is\n",
    "q = state.pipeline_state.q\n",
    "qd = state.pipeline_state.qd\n",
    "action = jp.ones(12) # dummy control\n",
    "x = jp.concatenate((q, qd), axis=0)\n",
    "\n",
    "est_state = A @ x + B @ action\n",
    "real_state = jit_env_step(state, action)"
   ]
  },
  {
   "cell_type": "code",
   "execution_count": null,
   "metadata": {},
   "outputs": [],
   "source": [
    "jp.concatenate((real_state.pipeline_state.q, real_state.pipeline_state.qd), axis=0) - est_state"
   ]
  },
  {
   "cell_type": "code",
   "execution_count": null,
   "metadata": {},
   "outputs": [],
   "source": [
    "# a bettter attempt to avoid re-initializing the pipeline\n",
    "def integrate_forward(x, u, state):\n",
    "    state = jit_env_step(state.replace(pipeline_state=state.pipeline_state.replace(q=x[:19], qd=x[19:])), u)\n",
    "    q = state.pipeline_state.q\n",
    "    qd = state.pipeline_state.qd\n",
    "    return jp.concatenate((q, qd), axis=0)\n",
    "\n",
    "jax_integrate_forward = jax.jit(jax.jacfwd(integrate_forward, argnums=[0, 1]), backend=\"cpu\")"
   ]
  },
  {
   "cell_type": "code",
   "execution_count": null,
   "metadata": {},
   "outputs": [],
   "source": [
    "q = state.pipeline_state.q\n",
    "qd = state.pipeline_state.qd\n",
    "action = jp.ones(12) # dummy control\n",
    "x = jp.concatenate((q, qd), axis=0)\n",
    "\n",
    "A, B = jax_integrate_forward(x, action, state)\n",
    "print(A.shape, B.shape)"
   ]
  },
  {
   "cell_type": "code",
   "execution_count": null,
   "metadata": {},
   "outputs": [],
   "source": []
  }
 ],
 "metadata": {
  "kernelspec": {
   "display_name": "Python 3 (ipykernel)",
   "language": "python",
   "name": "python3"
  },
  "language_info": {
   "codemirror_mode": {
    "name": "ipython",
    "version": 3
   },
   "file_extension": ".py",
   "mimetype": "text/x-python",
   "name": "python",
   "nbconvert_exporter": "python",
   "pygments_lexer": "ipython3",
   "version": "3.8.16"
  }
 },
 "nbformat": 4,
 "nbformat_minor": 4
}
