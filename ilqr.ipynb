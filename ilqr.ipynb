{
 "cells": [
  {
   "cell_type": "code",
   "execution_count": 2,
   "id": "1dd07c88-e915-4214-939c-538d28b4985d",
   "metadata": {},
   "outputs": [],
   "source": [
    "import functools\n",
    "import jax\n",
    "import os\n",
    "\n",
    "from datetime import datetime\n",
    "from jax import numpy as jp\n",
    "import matplotlib.pyplot as plt\n",
    "\n",
    "from IPython.display import HTML, clear_output\n",
    "\n",
    "import brax\n",
    "\n",
    "import flax\n",
    "from brax.envs import env\n",
    "from brax import envs\n",
    "from brax import base\n",
    "from brax.io import model\n",
    "from brax.io import json\n",
    "from brax.io import html\n",
    "from brax.io import mjcf\n",
    "\n",
    "from a1 import A1\n",
    "from inverse_kinematics.inverse_kinematics_controller import InverseKinematicsController"
   ]
  },
  {
   "cell_type": "code",
   "execution_count": 3,
   "id": "3555f5d4-5159-40ec-9194-8f66e7615450",
   "metadata": {},
   "outputs": [
    {
     "name": "stderr",
     "output_type": "stream",
     "text": [
      "/home/duynguyen/miniconda3/envs/spirit-rl-pybullet/lib/python3.8/site-packages/brax/io/mjcf.py:381: UserWarning: unrecognized collider, geom_type: 5\n",
      "  warnings.warn(f'unrecognized collider, geom_type: {typ}')\n"
     ]
    }
   ],
   "source": [
    "a1_env = A1()\n",
    "jit_env_reset = jax.jit(a1_env.reset, backend=\"cpu\")\n",
    "jit_env_step = jax.jit(a1_env.step, backend=\"cpu\")"
   ]
  },
  {
   "cell_type": "code",
   "execution_count": null,
   "id": "eb0eef21-72f5-45f0-916f-79c8e06e3d82",
   "metadata": {},
   "outputs": [],
   "source": []
  }
 ],
 "metadata": {
  "kernelspec": {
   "display_name": "Python 3 (ipykernel)",
   "language": "python",
   "name": "python3"
  },
  "language_info": {
   "codemirror_mode": {
    "name": "ipython",
    "version": 3
   },
   "file_extension": ".py",
   "mimetype": "text/x-python",
   "name": "python",
   "nbconvert_exporter": "python",
   "pygments_lexer": "ipython3",
   "version": "3.8.12"
  }
 },
 "nbformat": 4,
 "nbformat_minor": 5
}
