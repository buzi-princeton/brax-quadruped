{
 "cells": [
  {
   "cell_type": "code",
   "execution_count": 1,
   "id": "1dd07c88-e915-4214-939c-538d28b4985d",
   "metadata": {},
   "outputs": [
    {
     "name": "stderr",
     "output_type": "stream",
     "text": [
      "/home/buzi/miniconda3/envs/spirit-rl-pybullet/lib/python3.8/site-packages/flax/core/frozen_dict.py:169: FutureWarning: jax.tree_util.register_keypaths is deprecated, and will be removed in a future release. Please use `register_pytree_with_keys()` instead.\n",
      "  jax.tree_util.register_keypaths(\n"
     ]
    }
   ],
   "source": [
    "import functools\n",
    "import jax\n",
    "import os\n",
    "\n",
    "from datetime import datetime\n",
    "from jax import numpy as jp\n",
    "import matplotlib.pyplot as plt\n",
    "\n",
    "from IPython.display import HTML, clear_output\n",
    "\n",
    "import brax\n",
    "\n",
    "import flax\n",
    "from brax.envs import env\n",
    "from brax import envs\n",
    "from brax import base\n",
    "from brax.io import model\n",
    "from brax.io import json\n",
    "from brax.io import html\n",
    "from brax.io import mjcf\n",
    "\n",
    "from a1 import A1\n",
    "from inverse_kinematics.inverse_kinematics_controller import InverseKinematicsController"
   ]
  },
  {
   "cell_type": "code",
   "execution_count": 2,
   "id": "3555f5d4-5159-40ec-9194-8f66e7615450",
   "metadata": {},
   "outputs": [
    {
     "name": "stderr",
     "output_type": "stream",
     "text": [
      "/home/buzi/Desktop/Princeton/RESEARCH/SAFE/brax/brax/io/mjcf.py:381: UserWarning: unrecognized collider, geom_type: 5\n",
      "  warnings.warn(f'unrecognized collider, geom_type: {typ}')\n"
     ]
    }
   ],
   "source": [
    "a1_env = A1()\n",
    "jit_env_reset = jax.jit(a1_env.reset, backend=\"cpu\")\n",
    "jit_env_step = jax.jit(a1_env.step, backend=\"cpu\")"
   ]
  },
  {
   "cell_type": "markdown",
   "id": "bd3aa75c-0aab-44c4-b00f-13d890b25f85",
   "metadata": {},
   "source": [
    "Use the inverse kinematics controller as nominal trajectory, then improve it using ILQR (cost is robot's stability)"
   ]
  },
  {
   "cell_type": "code",
   "execution_count": 3,
   "id": "eb0eef21-72f5-45f0-916f-79c8e06e3d82",
   "metadata": {},
   "outputs": [],
   "source": [
    "controller = InverseKinematicsController(Xdist=0.366, Ydist=0.28, height=0.25, coxa=0.038, femur=0.2, tibia=0.2, L=0.8, angle=0, T=1.0, dt=0.01)"
   ]
  },
  {
   "cell_type": "code",
   "execution_count": 28,
   "id": "3861f1b9-c436-4389-9f88-9e9bf7fa5435",
   "metadata": {},
   "outputs": [],
   "source": [
    "# bring robot to standing position and take the first step of the controller\n",
    "states = []\n",
    "actions = []\n",
    "\n",
    "rng = jax.random.PRNGKey(seed=1)\n",
    "state = jit_env_reset(rng=rng)\n",
    "\n",
    "current_joint = jp.array([\n",
    "    0., 1.4, -2.6, \n",
    "    0., 1.4, -2.6, \n",
    "    0., 1.4, -2.6, \n",
    "    0., 1.4, -2.6\n",
    "])\n",
    "\n",
    "# stand up\n",
    "reference_joint = jp.array([\n",
    "    0.0, 0.6, -1.5, \n",
    "    0.0, 0.6, -1.5, \n",
    "    0.0, 0.6, -1.5,\n",
    "    0.0, 0.6, -1.5\n",
    "])\n",
    "\n",
    "trajectory = jp.linspace(current_joint, reference_joint, 100)\n",
    "\n",
    "for action in trajectory:\n",
    "    states.append(state)\n",
    "    actions.append(action)\n",
    "    state = jit_env_step(state, action)\n",
    "\n",
    "# move from stable stance to first step of performance controller\n",
    "reference_joint = jp.array(controller.get_action(\n",
    "    joint_order = [\"FR\", \"FL\", \"BR\", \"BL\"], offset=[0, 0, 0, 0, 0, 0, 0, 0, 0, 0, 0, 0]\n",
    "))\n",
    "\n",
    "trajectory = jp.linspace(state.pipeline_state.q[7:], reference_joint, 50)\n",
    "\n",
    "for action in trajectory:\n",
    "    states.append(state)\n",
    "    actions.append(action)\n",
    "    state = jit_env_step(state, action)"
   ]
  },
  {
   "cell_type": "code",
   "execution_count": 30,
   "id": "33bb9d0f-210d-4d1f-b6b0-0be52cd612b4",
   "metadata": {},
   "outputs": [],
   "source": [
    "# Get A, B from trajectory\n",
    "# jacobian, but the action space now is angular position instead of torque\n",
    "def integrate_forward(x, u, state):\n",
    "    new_state = jit_env_step(\n",
    "        state.replace(pipeline_state=state.pipeline_state.replace(q=x[:19], qd=x[19:])), u\n",
    "    )\n",
    "    return jp.append(new_state.pipeline_state.q, new_state.pipeline_state.qd)\n",
    "\n",
    "jax_integrate_forward = jax.jit(jax.jacfwd(integrate_forward, argnums=[0, 1]), backend=\"cpu\")\n",
    "\n",
    "def get_x(state: env.State):\n",
    "    return jp.append(state.pipeline_state.q, state.pipeline_state.qd)\n",
    "\n",
    "jax_get_x = jax.jit(get_x, backend=\"cpu\")\n",
    "\n",
    "As = []\n",
    "Bs = []\n",
    "\n",
    "for i, s in enumerate(states):\n",
    "    x = jax_get_x(s)\n",
    "    action = actions[i]\n",
    "\n",
    "    A, B = jax_integrate_forward(x, action, s)\n",
    "    As.append(A)\n",
    "    Bs.append(B)"
   ]
  },
  {
   "cell_type": "code",
   "execution_count": 7,
   "id": "6c1e9480-8155-428a-adad-2d495396bff8",
   "metadata": {},
   "outputs": [],
   "source": [
    "from abc import ABC, abstractmethod\n",
    "from functools import partial\n",
    "from jaxlib.xla_extension import DeviceArray\n",
    "import jax\n",
    "from jax import numpy as jnp\n",
    "\n",
    "from ILQR.cost.base_cost import BaseCost\n",
    "from ILQR.cost.base_cost import quadratic_cost, huber_cost\n",
    "\n",
    "\n",
    "class StateCost(BaseCost):\n",
    "    def __init__(self, config):\n",
    "        super().__init__()\n",
    "        self.weight = jnp.array([config.ctrl_cost_accel_weight,\n",
    "                                config.ctrl_cost_steer_weight]) # shape of (dim_u)\n",
    "        \n",
    "        self.delta = jnp.array([config.ctrl_cost_accel_huber_delta,\n",
    "                                config.ctrl_cost_steer_huber_delta]) # shape of (dim_u)\n",
    "        \n",
    "        if config.ctrl_cost_type == 'quadratic':\n",
    "            self.cost_func = quadratic_cost\n",
    "        elif config.ctrl_cost_type == 'huber':\n",
    "            self.cost_func = huber_cost\n",
    "        else:\n",
    "            raise NotImplementedError(\n",
    "                f'Cost type {config.ctrl_cost_type} not implemented for CTRL COST. '+\n",
    "                'Please choose from [quadratic, huber]'\n",
    "                )\n",
    "    \n",
    "    \n",
    "    @partial(jax.jit, static_argnums=(0,))\n",
    "    def get_running_cost(\n",
    "\t\t\tself, state: DeviceArray, ctrl: DeviceArray, ref: DeviceArray\n",
    "\t) -> float:\n",
    "        '''\n",
    "        Given a state, control, and time index, return the cost.\n",
    "        Input:\n",
    "            state: (dim_x) state\n",
    "            ctrl: (dim_u) control\n",
    "            ref: (dim_ref) reference \n",
    "        return:\n",
    "            cost: float\n",
    "        '''\n",
    "        return jnp.sum(self.cost_func(ctrl, self.weight, self.delta))"
   ]
  },
  {
   "cell_type": "code",
   "execution_count": 61,
   "id": "8c89747e",
   "metadata": {},
   "outputs": [],
   "source": [
    "s = states[10]\n",
    "a = actions[10]\n",
    "x = jax_get_x(s)"
   ]
  },
  {
   "cell_type": "code",
   "execution_count": null,
   "id": "1f9d4e46",
   "metadata": {},
   "outputs": [],
   "source": [
    "# write a function to get the cost\n"
   ]
  }
 ],
 "metadata": {
  "kernelspec": {
   "display_name": "Python 3 (ipykernel)",
   "language": "python",
   "name": "python3"
  },
  "language_info": {
   "codemirror_mode": {
    "name": "ipython",
    "version": 3
   },
   "file_extension": ".py",
   "mimetype": "text/x-python",
   "name": "python",
   "nbconvert_exporter": "python",
   "pygments_lexer": "ipython3",
   "version": "3.8.16"
  }
 },
 "nbformat": 4,
 "nbformat_minor": 5
}
