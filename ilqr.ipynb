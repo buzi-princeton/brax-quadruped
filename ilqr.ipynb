{
 "cells": [
  {
   "cell_type": "code",
   "execution_count": 1,
   "id": "1dd07c88-e915-4214-939c-538d28b4985d",
   "metadata": {},
   "outputs": [],
   "source": [
    "import functools\n",
    "import time\n",
    "\n",
    "# turn on parallelism\n",
    "import os\n",
    "os.environ[\"XLA_FLAGS\"] = \"--xla_force_host_platform_device_count=16\"\n",
    "\n",
    "import jax\n",
    "jax.config.update(\"jax_enable_x64\", True)\n",
    "jax.config.update(\"jax_platform_name\", \"cpu\")\n",
    "\n",
    "from datetime import datetime\n",
    "from jax import numpy as jp\n",
    "import matplotlib.pyplot as plt\n",
    "\n",
    "from IPython.display import HTML, clear_output\n",
    "\n",
    "import brax\n",
    "import flax\n",
    "from brax.envs import env\n",
    "from brax import envs\n",
    "from brax import base\n",
    "from brax.io import model\n",
    "from brax.io import json\n",
    "from brax.io import html\n",
    "from brax.io import mjcf\n",
    "\n",
    "from a1_raw import A1Raw\n",
    "from a1 import A1\n",
    "from inverse_kinematics.inverse_kinematics_controller import InverseKinematicsController"
   ]
  },
  {
   "cell_type": "code",
   "execution_count": 2,
   "id": "3555f5d4-5159-40ec-9194-8f66e7615450",
   "metadata": {},
   "outputs": [
    {
     "name": "stderr",
     "output_type": "stream",
     "text": [
      "/home/duynguyen/miniconda3/envs/spirit-rl-pybullet/lib/python3.8/site-packages/brax/io/mjcf.py:381: UserWarning: unrecognized collider, geom_type: 5\n",
      "  warnings.warn(f'unrecognized collider, geom_type: {typ}')\n"
     ]
    }
   ],
   "source": [
    "a1_env = A1()\n",
    "jit_env_reset = jax.jit(a1_env.reset, backend=\"cpu\")\n",
    "jit_env_step = jax.jit(a1_env.step, backend=\"cpu\")"
   ]
  },
  {
   "cell_type": "markdown",
   "id": "bd3aa75c-0aab-44c4-b00f-13d890b25f85",
   "metadata": {},
   "source": [
    "Use the inverse kinematics controller as nominal trajectory, then improve it using ILQR (cost is robot's stability)"
   ]
  },
  {
   "cell_type": "code",
   "execution_count": 3,
   "id": "eb0eef21-72f5-45f0-916f-79c8e06e3d82",
   "metadata": {},
   "outputs": [],
   "source": [
    "controller = InverseKinematicsController(Xdist=0.366, Ydist=0.28, height=0.25, coxa=0.038, femur=0.2, tibia=0.2, L=0.8, angle=0, T=1.0, dt=0.01)"
   ]
  },
  {
   "cell_type": "code",
   "execution_count": 30,
   "id": "3861f1b9-c436-4389-9f88-9e9bf7fa5435",
   "metadata": {},
   "outputs": [],
   "source": [
    "# bring robot to standing position and take the first step of the controller\n",
    "states = []\n",
    "actions = []\n",
    "\n",
    "rng = jax.random.PRNGKey(seed=1)\n",
    "state = jit_env_reset(rng=rng)\n",
    "\n",
    "current_joint = jp.array([\n",
    "    0., 1.4, -2.6, \n",
    "    0., 1.4, -2.6, \n",
    "    0., 1.4, -2.6, \n",
    "    0., 1.4, -2.6\n",
    "])\n",
    "\n",
    "# stand up\n",
    "reference_joint = jp.array([\n",
    "    0.0, 0.6, -1.5, \n",
    "    0.0, 0.6, -1.5, \n",
    "    0.0, 0.6, -1.5,\n",
    "    0.0, 0.6, -1.5\n",
    "])\n",
    "\n",
    "trajectory = jp.linspace(current_joint, reference_joint, 100)\n",
    "\n",
    "cur_time = time.time()\n",
    "for action in trajectory:\n",
    "    states.append(state)\n",
    "    actions.append(action)\n",
    "    state = jit_env_step(state, action)\n",
    "sum_time = time.time() - cur_time\n",
    "\n",
    "# move from stable stance to first step of performance controller\n",
    "reference_joint = jp.array(controller.get_action(\n",
    "    joint_order = [\"FR\", \"FL\", \"BR\", \"BL\"], offset=[0, 0, 0, 0, 0, 0, 0, 0, 0, 0, 0, 0]\n",
    "))\n",
    "\n",
    "trajectory = jp.linspace(state.pipeline_state.q[7:], reference_joint, 50)\n",
    "\n",
    "cur_time = time.time()\n",
    "for action in trajectory:\n",
    "    states.append(state)\n",
    "    actions.append(action)\n",
    "    state = jit_env_step(state, action)\n",
    "\n",
    "sum_time += time.time() - cur_time"
   ]
  },
  {
   "cell_type": "code",
   "execution_count": 31,
   "id": "2a90ae53-4f33-4fde-9748-af8642a860d8",
   "metadata": {},
   "outputs": [
    {
     "data": {
      "text/plain": [
       "0.011307716369628906"
      ]
     },
     "execution_count": 31,
     "metadata": {},
     "output_type": "execute_result"
    }
   ],
   "source": [
    "sum_time / 150.0"
   ]
  },
  {
   "cell_type": "code",
   "execution_count": 6,
   "id": "24a2126b-8a22-4b42-8c81-78cedc277fa7",
   "metadata": {},
   "outputs": [
    {
     "name": "stderr",
     "output_type": "stream",
     "text": [
      "/home/duynguyen/miniconda3/envs/spirit-rl-pybullet/lib/python3.8/site-packages/brax/io/mjcf.py:381: UserWarning: unrecognized collider, geom_type: 5\n",
      "  warnings.warn(f'unrecognized collider, geom_type: {typ}')\n"
     ]
    }
   ],
   "source": [
    "a1_env_raw = A1Raw()\n",
    "jit_rawenv_reset = jax.jit(a1_env_raw.reset, backend=\"cpu\")\n",
    "jit_rawenv_step = jax.jit(a1_env_raw.step, backend=\"cpu\")"
   ]
  },
  {
   "cell_type": "code",
   "execution_count": 7,
   "id": "70035127-1848-4954-ba98-62d1912ded4c",
   "metadata": {},
   "outputs": [],
   "source": [
    "def integrate_forward(s, u, x_pos, x_rot, xd_ang, xd_vel, com, \n",
    "        cinr_transform_pos, cinr_transform_rot, cinr_i, cinr_mass, \n",
    "        cd_ang, cd_vel, cdof_ang, cdof_vel, \n",
    "        cdofd_ang, cdofd_vel, mass_mx_inv, \n",
    "        con_jac, con_aref, con_diag, \n",
    "        qf_smooth, qf_constraint, qdd):\n",
    "    \n",
    "    new_state = jit_rawenv_step(s, u, x_pos, x_rot, xd_ang, xd_vel, com, \n",
    "        cinr_transform_pos, cinr_transform_rot, cinr_i, cinr_mass, \n",
    "        cd_ang, cd_vel, cdof_ang, cdof_vel, \n",
    "        cdofd_ang, cdofd_vel, mass_mx_inv, \n",
    "        con_jac, con_aref, con_diag, \n",
    "        qf_smooth, qf_constraint, qdd\n",
    "    )\n",
    "    \n",
    "    return jp.append(new_state.pipeline_state.q, new_state.pipeline_state.qd)\n",
    "\n",
    "jax_integrate_forward = jax.jit(jax.jacfwd(integrate_forward, argnums=[0, 1]), backend=\"cpu\")"
   ]
  },
  {
   "cell_type": "code",
   "execution_count": 8,
   "id": "308b05f5-2699-4c32-8d46-b3cf0bfe7bd1",
   "metadata": {},
   "outputs": [],
   "source": [
    "def get_x(state: env.State):\n",
    "    return jp.append(state.pipeline_state.q, state.pipeline_state.qd)\n",
    "\n",
    "jax_get_x = jax.jit(get_x, backend=\"cpu\")"
   ]
  },
  {
   "cell_type": "code",
   "execution_count": 9,
   "id": "ccb2a7ed-15c6-407e-9663-f7c0ce5aeeef",
   "metadata": {},
   "outputs": [],
   "source": [
    "def get_pipeline_parse(ps):\n",
    "    return ps.x.pos, ps.x.rot, ps.xd.ang, ps.xd.vel, ps.com, ps.cinr.transform.pos, ps.cinr.transform.rot, ps.cinr.i, ps.cinr.mass, ps.cd.ang, ps.cd.vel, ps.cdof.ang, ps.cdof.vel, ps.cdofd.ang, ps.cdofd.vel, ps.mass_mx_inv, ps.con_jac, ps.con_aref, ps.con_diag, ps.qf_smooth, ps.qf_constraint, ps.qdd"
   ]
  },
  {
   "cell_type": "code",
   "execution_count": 10,
   "id": "33bb9d0f-210d-4d1f-b6b0-0be52cd612b4",
   "metadata": {},
   "outputs": [
    {
     "name": "stdout",
     "output_type": "stream",
     "text": [
      "41.95318031311035\n"
     ]
    }
   ],
   "source": [
    "# Get A, B from trajectory\n",
    "import time\n",
    "\n",
    "cur_time = time.time()\n",
    "for i, s in enumerate(states):\n",
    "    x = jax_get_x(s)\n",
    "    action = actions[i]\n",
    "\n",
    "    A, B = jax_integrate_forward(x, action, *get_pipeline_parse(s.pipeline_state))\n",
    "    \n",
    "    if i > 10:\n",
    "        break\n",
    "print(time.time() - cur_time)"
   ]
  },
  {
   "cell_type": "code",
   "execution_count": 11,
   "id": "85f4f31d-0f8d-46be-a907-fc3b60ab8779",
   "metadata": {},
   "outputs": [],
   "source": [
    "# try vmap\n",
    "jit_vmap_jacfwd = jax.jit(jax.vmap(jax_integrate_forward))"
   ]
  },
  {
   "cell_type": "code",
   "execution_count": 12,
   "id": "6bec34aa-aba2-497b-ab99-7df6147921ad",
   "metadata": {},
   "outputs": [],
   "source": [
    "ss = jp.array([jax_get_x(s) for s in states[:10]])\n",
    "x_poss = jp.array([s.pipeline_state.x.pos for s in states[:10]])\n",
    "x_rots = jp.array([s.pipeline_state.x.rot for s in states[:10]])\n",
    "xd_angs = jp.array([s.pipeline_state.xd.ang for s in states[:10]])\n",
    "xd_vels = jp.array([s.pipeline_state.xd.vel for s in states[:10]])\n",
    "coms = jp.array([s.pipeline_state.com for s in states[:10]])\n",
    "cinr_transform_poss = jp.array([s.pipeline_state.cinr.transform.pos for s in states[:10]])\n",
    "cinr_transform_rots = jp.array([s.pipeline_state.cinr.transform.rot for s in states[:10]])\n",
    "cinr_is = jp.array([s.pipeline_state.cinr.i for s in states[:10]])\n",
    "cinr_masses = jp.array([s.pipeline_state.cinr.mass for s in states[:10]])\n",
    "cd_angs = jp.array([s.pipeline_state.cd.ang for s in states[:10]])\n",
    "cd_vels  = jp.array([s.pipeline_state.cd.vel for s in states[:10]])\n",
    "cdof_angs  = jp.array([s.pipeline_state.cdof.ang for s in states[:10]])\n",
    "cdof_vels  = jp.array([s.pipeline_state.cdof.vel for s in states[:10]])\n",
    "cdofd_angs  = jp.array([s.pipeline_state.cdofd.ang for s in states[:10]])\n",
    "cdofd_vels = jp.array([s.pipeline_state.cdofd.vel for s in states[:10]])\n",
    "mass_mx_invs = jp.array([s.pipeline_state.mass_mx_inv for s in states[:10]])\n",
    "con_jacs = jp.array([s.pipeline_state.con_jac for s in states[:10]])\n",
    "con_arefs = jp.array([s.pipeline_state.con_aref for s in states[:10]])\n",
    "con_diags = jp.array([s.pipeline_state.con_diag for s in states[:10]])\n",
    "qf_smooths = jp.array([s.pipeline_state.qf_smooth for s in states[:10]])\n",
    "qf_constraints = jp.array([s.pipeline_state.qf_constraint for s in states[:10]])\n",
    "qdds = jp.array([s.pipeline_state.qdd for s in states[:10]])"
   ]
  },
  {
   "cell_type": "code",
   "execution_count": 13,
   "id": "1412fb80-2132-4909-832e-0f0c79357342",
   "metadata": {},
   "outputs": [
    {
     "name": "stdout",
     "output_type": "stream",
     "text": [
      "25.6126389503479\n"
     ]
    }
   ],
   "source": [
    "import time\n",
    "cur_time = time.time()\n",
    "jit_vmap_jacfwd(\n",
    "    ss, jp.array(actions[:10]), \n",
    "    x_poss, x_rots, xd_angs, xd_vels, coms, \n",
    "    cinr_transform_poss, cinr_transform_rots, cinr_is, cinr_masses, \n",
    "    cd_angs, cd_vels, cdof_angs, cdof_vels, cdofd_angs, cdofd_vels,\n",
    "    mass_mx_invs, con_jacs, con_arefs, con_diags, qf_smooths, qf_constraints, qdds\n",
    ")\n",
    "print(time.time() - cur_time)"
   ]
  },
  {
   "cell_type": "code",
   "execution_count": 14,
   "id": "2fcb49a6-ef82-4b9c-8320-23dca2e52a58",
   "metadata": {},
   "outputs": [],
   "source": [
    "# try pmap\n",
    "jit_pmap_jacfwd = jax.pmap(jax_integrate_forward)"
   ]
  },
  {
   "cell_type": "code",
   "execution_count": 25,
   "id": "8195806d-c42a-4542-874c-8add318fde8c",
   "metadata": {},
   "outputs": [
    {
     "name": "stdout",
     "output_type": "stream",
     "text": [
      "0.016916990280151367\n"
     ]
    }
   ],
   "source": [
    "import time\n",
    "cur_time = time.time()\n",
    "jit_pmap_jacfwd(\n",
    "    ss, jp.array(actions[:10]), \n",
    "    x_poss, x_rots, xd_angs, xd_vels, coms, \n",
    "    cinr_transform_poss, cinr_transform_rots, cinr_is, cinr_masses, \n",
    "    cd_angs, cd_vels, cdof_angs, cdof_vels, cdofd_angs, cdofd_vels,\n",
    "    mass_mx_invs, con_jacs, con_arefs, con_diags, qf_smooths, qf_constraints, qdds\n",
    ")\n",
    "print(time.time() - cur_time)"
   ]
  },
  {
   "cell_type": "code",
   "execution_count": 16,
   "id": "b465e419-a7c5-4117-ba36-1b821cf99261",
   "metadata": {},
   "outputs": [],
   "source": [
    "# rewrite integrate forward using has_aux\n",
    "def integrate_forward_aux(s, u, x_pos, x_rot, xd_ang, xd_vel, com, \n",
    "        cinr_transform_pos, cinr_transform_rot, cinr_i, cinr_mass, \n",
    "        cd_ang, cd_vel, cdof_ang, cdof_vel, \n",
    "        cdofd_ang, cdofd_vel, mass_mx_inv, \n",
    "        con_jac, con_aref, con_diag, \n",
    "        qf_smooth, qf_constraint, qdd):\n",
    "    \n",
    "    new_state = jit_rawenv_step(s, u, x_pos, x_rot, xd_ang, xd_vel, com, \n",
    "        cinr_transform_pos, cinr_transform_rot, cinr_i, cinr_mass, \n",
    "        cd_ang, cd_vel, cdof_ang, cdof_vel, \n",
    "        cdofd_ang, cdofd_vel, mass_mx_inv, \n",
    "        con_jac, con_aref, con_diag, \n",
    "        qf_smooth, qf_constraint, qdd\n",
    "    )\n",
    "    \n",
    "    return jp.append(new_state.pipeline_state.q, new_state.pipeline_state.qd), new_state\n",
    "\n",
    "jax_integrate_forward = jax.jit(jax.jacfwd(integrate_forward_aux, argnums=[0, 1], has_aux=True), backend=\"cpu\")"
   ]
  },
  {
   "cell_type": "code",
   "execution_count": 17,
   "id": "46ebde15-90b5-4ccc-9c7a-b8e01ac5b55b",
   "metadata": {},
   "outputs": [],
   "source": [
    "s0 = states[0]\n",
    "(A, B), state = jax_integrate_forward(get_x(s0), jp.array(actions[0]), *get_pipeline_parse(s0.pipeline_state))"
   ]
  }
 ],
 "metadata": {
  "kernelspec": {
   "display_name": "Python 3 (ipykernel)",
   "language": "python",
   "name": "python3"
  },
  "language_info": {
   "codemirror_mode": {
    "name": "ipython",
    "version": 3
   },
   "file_extension": ".py",
   "mimetype": "text/x-python",
   "name": "python",
   "nbconvert_exporter": "python",
   "pygments_lexer": "ipython3",
   "version": "3.8.12"
  },
  "toc-autonumbering": true,
  "toc-showcode": false
 },
 "nbformat": 4,
 "nbformat_minor": 5
}
